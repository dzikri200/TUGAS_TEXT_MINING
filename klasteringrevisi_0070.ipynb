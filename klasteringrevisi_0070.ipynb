{
  "nbformat": 4,
  "nbformat_minor": 0,
  "metadata": {
    "colab": {
      "provenance": [],
      "collapsed_sections": [],
      "include_colab_link": true
    },
    "kernelspec": {
      "name": "python3",
      "display_name": "Python 3"
    },
    "language_info": {
      "name": "python"
    }
  },
  "cells": [
    {
      "cell_type": "markdown",
      "metadata": {
        "id": "view-in-github",
        "colab_type": "text"
      },
      "source": [
        "<a href=\"https://colab.research.google.com/github/dzikri200/TUGAS_TEXT_MINING/blob/main/klasteringrevisi_0070.ipynb\" target=\"_parent\"><img src=\"https://colab.research.google.com/assets/colab-badge.svg\" alt=\"Open In Colab\"/></a>"
      ]
    },
    {
      "cell_type": "code",
      "metadata": {
        "colab": {
          "base_uri": "https://localhost:8080/"
        },
        "id": "owxqrEeBpSrn",
        "outputId": "bd244b6d-41a8-493c-f9d0-cbba840bbec5"
      },
      "source": [
        "!pip install Sastrawi\n"
      ],
      "execution_count": null,
      "outputs": [
        {
          "output_type": "stream",
          "name": "stdout",
          "text": [
            "Looking in indexes: https://pypi.org/simple, https://us-python.pkg.dev/colab-wheels/public/simple/\n",
            "Collecting Sastrawi\n",
            "  Downloading Sastrawi-1.0.1-py2.py3-none-any.whl (209 kB)\n",
            "\u001b[K     |████████████████████████████████| 209 kB 6.4 MB/s \n",
            "\u001b[?25hInstalling collected packages: Sastrawi\n",
            "Successfully installed Sastrawi-1.0.1\n"
          ]
        }
      ]
    },
    {
      "cell_type": "code",
      "metadata": {
        "colab": {
          "base_uri": "https://localhost:8080/"
        },
        "id": "ew1ZDWLLqf_S",
        "outputId": "310a6469-3222-4ef9-e521-b65022753b38"
      },
      "source": [
        "!pip install beautifulsoup4"
      ],
      "execution_count": null,
      "outputs": [
        {
          "output_type": "stream",
          "name": "stdout",
          "text": [
            "Looking in indexes: https://pypi.org/simple, https://us-python.pkg.dev/colab-wheels/public/simple/\n",
            "Requirement already satisfied: beautifulsoup4 in /usr/local/lib/python3.7/dist-packages (4.6.3)\n"
          ]
        }
      ]
    },
    {
      "cell_type": "code",
      "metadata": {
        "id": "iW8MaatGqJHR"
      },
      "source": [
        "import requests\n",
        "from bs4 import BeautifulSoup# Buat request ke website\n",
        "r = requests.get('https://bola.kompas.com/')\n",
        "soup = BeautifulSoup(r.content, 'html.parser')# Buat object untuk parse((mengurai) format HTML \n",
        "link = []\n",
        "# Ambil semua tautan berita yang menarik\n",
        "for i in soup.find('div', {'class':'most__wrap'}).find_all('a'): \n",
        "    \n",
        "    i['href'] = i['href'] + '?page=all'\n",
        "    link.append(i['href'])\n",
        "    #dari tiap tautan ambil paragraph, kombinasikan tiap paragraph\n",
        "    #simpan ke dalam larik documents\n",
        "    \n",
        "documents = []\n",
        "for i in link:\n",
        "    # Buat request ke tautan\n",
        "    r = requests.get(i)\n",
        "    # Initialize BeautifulSoup object untuk parse/mengurai isi \n",
        "    soup = BeautifulSoup(r.content, 'html.parser')\n",
        "    # ambil semua paragraph dan masukkan ke dalam larik sen\n",
        "    sen = []\n",
        "    for i in soup.find('div', {'class':'read__content'}).find_all('p'):\n",
        "        sen.append(i.text)\n",
        "    # tabahkan semua paragraph yang sudah digabungkan ke dalam larik documents\n",
        "    documents.append(' '.join(sen))"
      ],
      "execution_count": null,
      "outputs": []
    },
    {
      "cell_type": "code",
      "metadata": {
        "colab": {
          "base_uri": "https://localhost:8080/"
        },
        "id": "DjbHRtOhsohf",
        "outputId": "b0a29eaa-66bc-4929-cb38-3e036b1912b7"
      },
      "source": [
        "for d in documents:\n",
        "    print(d)"
      ],
      "execution_count": null,
      "outputs": [
        {
          "output_type": "stream",
          "name": "stdout",
          "text": [
            "KOMPAS.com - Arkhan Kaka tak kuasa menahan tangisnya usai timnas U17 Indonesia kalah dari Malaysia pada laga terakhir Grup B Kualifikasi Piala Asia U17 2023. Tangis Arkhan Kaka pecah seiring berbunyinya peluit panjang tanda berakhirnya laga timnas U17 Indonesia vs Malaysia di Stadion Pakansari, Bogor, Minggu (9/10/2022) malam WIB. Laga Indonesia vs Malaysia sangat berarti bagi Arkhan Kaka. Sebab, laga ini memperebutkan status sebagai juara Grup B yang berhadiah tiket otomatis ke putaran final Piala Asia U17 2023. Namun, timnas U17 Indonesia kalah 1-5 dari Malaysia. Lima gol Malaysia diciptakan oleh Zainurhakimi Zain (18'), Arami Wafiy (21', 40' penalti), Anjasmirza Saharudin (24'), dan Afiq Danish Zulfkifli (28'). Baca juga: Timnas U17 Indonesia Tak Lolos Piala Asia, Salah Strategi hingga Habis Bensin Adapun satu-satunya gol balasan timnas U17 Indonesia diciptakan oleh Arkhan Kaka pada menit ke-90+2. Akan tetapi, gol Arkhan Kaka itu tak bisa menyelamatkan Indonesia dari kekalahan. Usai pertandingan, remaja bernama lengkap Arkhan Kaka Putra Purwanto pun tak kuasa menahan kesedihannya. Pemain kelahiran Blitar pada 2 September 2007 itu menangis dan terlihat tertunduk lesu di lapangan. Rekan setim Arkhan Kaka, Riski Afrisal, lalu datang menghampiri. Pemain bernomor punggung 11 itu terlihat membantu untuk menyemangati Arkhan. KOMPAS.com/KRISTIANTO PURNOMO Pemain timnas U17 Indonesia Arkhan Kaka kecewa usai membobol gawang timnas Malaysia pada laga Kualifikasi Piala Asia U17 2023 di Stadion Pakansari, Kabupaten Bogor, Minggu (9/10/2022). Indonesia kalah 1-5 atas Malaysia.Adapun kekalahan ini membuat timnas U17 Indonesia hanya mampu berada di peringkat kedua pada klasemen Kualifikasi Piala Asia U17 2023 dengan koleksi sembilan poin. Sementara, Malaysia duduk di puncak klasemen dengan 10 poin, sehingga berhak lolos ke putaran final Piala Asia U17 2023. Di sisi lain, kekalahan dari Malaysia itu membuat Indonesia harus menerima kenyataan gagal ke Piala Asia U17 tahun depan. Hal itu dikarenakan Garuda Asia, julukan timnas U17 Indonesia tidak masuk dalam enam peringkat kedua terbaik. Baca juga: Klasemen Runner-up Terbaik Kualifikasi Piala Asia U17, Kenapa Indonesia Bisa Tersingkir? Timnas U17 Indonesia berada di peringkat tujuh dalam klasemen runner-up terbaik Kualifikasi Piala Asia U17 dengan koleksi tiga poin dan selisih gol minus tiga. Kemenangan 2-1 yang diraih Laos atas Kirgistan pada laga terakhir Grup I, ditambah dengan kekalahan tipis (1-2) India dari Arab Saudi di Grup D, pada Senin (10/10/2022) dini hari WIB, memastikan Indonesia tersingkir dari persaingan. Laos punya selisih gol yang lebih baik (-2) atas Indonesia (-3), dan menjadi satu dari enam tim yang lolos ke putaran final Piala Asia U17 2023 lewat jalur runner-up terbaik. KOMPAS.com/KRISTIANTO PURNOMO Pemain timnas U17 Indonesia Arkhan Kaka kecewa usai membobol gawang timnas Malaysia pada laga Kualifikasi Piala Asia U17 2023 di Stadion Pakansari, Kabupaten Bogor, Minggu (9/10/2022). Indonesia kalah 1-5 atas Malaysia.Meski Arkhan Kaka dkk gagal lolos ke putaran final Piala Asia U17 2023, Garuda Asia tetap harus tegakkan kepala. Sebab, mereka sudah berjuang hingga titik keringat penghabisan membela nama Indonesia di Kualifikasi Piala Asia U17 2023.\n",
            " KOMPAS.com - Malaysia mengalahkan Indonesia dan lolos ke putaran final Piala Asia U17 2023 berkat taktik \"sembunyi\" yang mereka terapkan. Malaysia tergabung di Grup B Kualifikasi Piala Asia U17 2023. Mereka bersaing dengan Indonesia, Uni Emirat Arab (UEA), Palestina, dan Guam. Pada laga pertama, Malaysia melakukan start bagus dengan menggasak Palestina empat gol tanpa balas. Namun, pada pertandingan berikutnya, tim muda Harimau Malaya diluar dugaan ditahan imbang oleh Guam 1-1. Pelatih timnas U17 Malaysia Osmera bin Omaro mengungkapkan bahwa tim asuhannya memang bermain buruk melawan Guam, tetapi itu adalah bagian dari strategi. Baca juga: Kalah Telak 1-5 dari Malaysia, Timnas U17 Indonesia Masuk Perangkap? Ya, Malaysia sengaja tampil seadanya melawan Guam supaya kekuatan terbaik mereka tidak terendus oleh para pesaing. \"Di (kualifikasi) AFC ini bisa dikatakan bahwa kami sengaja tidak ingin menunjukkan kemampuan kami yang sebenarnya melawan Guam,\" kata Osmera bin Omaro, dikutip dari Berita Harian, Senin (10/10/2022). \"Saya sebetulnya tidak mengharapkan hasil seri. Kami ingin menang, tetapi Guam mencetak gl di pengujung pertandingan,\" Osmera menambahkan. Taktik \"sembunyi\" itu ternyata ampuh juga untuk mengelabui lawan. Buktinya, pada dua laga terakhir Grup B, Malaysia selalu mendapat poin penuh. Malaysia menang tipis 3-2 atas UEA (7/10/2022) dan menggasak timnas U17 Indonesia 5-1 (9/10/2022) di Stadion Pakansari, Cibinong, Bogor. Baca juga: Momen yang Runtuhkan Mental Timnas U17 Indonesia Saat Lawan Malaysia Kemenangan atas Indonesia memastikan Malaysia lolos ke putaran final Piala Asia U17 2023 dengan status juara Grup B. “Kami sudah lama menunggu momen ini menjadi apa yang kami lakukan semua. Kami tahu kemampuan para pemain,\" kata Osmera. \"Saya mengucapkan selamat kepada Indonesia karena mereka juga tim yang sangat bagus, tapi mungkin hari ini keberuntungan mereka tidak bagus,\" imbuhnya. Di klasemen akhir Grup B, Malaysia mengantongi 10 poin dari empat pertandingan, unggul satu angka atas Indonesia di posisi kedua. Malaysia termasuk dalam empat negara ASEAN yang lolos ke putaran final Piala ASEAN U17 2023 selain Vietnam (juara grup F), Thailand (runner-up Grup F), dan Laos (runner-up Grup I). Baca juga: Nasib Kurang Baik Timnas U17 Indonesia di Mata Pelatih Malaysia Sementara itu, timnas Indonesia sebetulnya berpeluang lolos berbekal status tim peringkat kedua. Namun, Indonesia cuma menempati peringkat ketujuh dalam klasemen akhir runner-up terbaik Kualifikasi Piala Asia U17 2023.  Posisi itu tidak memenuhi syarat karena hanya enam tim teratas di klasemen runner-up terbaik yang berhak melaju.\n",
            " KOMPAS.com - Laga Everton vs Manchester United diwarnai catatan bersejarah yang dibuat Antony. Ia menyebut ini baru awal dan menjanjikan lebih banyak gol kepada pendukung Setan Merah. Partai Everton vs Manchester United pada pekan ke-10 kompetisi teratas Liga Inggris, Premier League, menjadi milik tim tamu. Melakoni laga tandang di Stadion Goodison Park, Senin (10/10/2022) dini hari WIB, Manchester United sukses menaklukkan tuan rumah Everton dengan skor 2-1. Everton sebenarnya bisa unggul lebih dulu melalui sepakan akurat Alex Iwobi dari luar kotak penalti pada menit ke-5. Sepuluh menit kemudian, Antony mencatatkan namanya ke papan skor usai menuntaskan umpan Anthony Martial. Baca juga: Hasil Everton Vs Man United: Sensasi Antony-CR700, MU Menang Comeback 2-1 Satu menit sebelum waktu normal babak pertama selesai, Man United bisa membalikkan keadaan lewat gol Cristiano Ronaldo. Skor 2-1 untuk keunggulan tim tamu itu bertahan hingga pertandingan rampung. Manchester United besutan Erik ten Hag pun membawa pulang tiga poin dari Goodison Park berkat kemenangan 2-1 atas Everton. Selain Cristiano Ronaldo yang mencetak gol ke-700 di level klub, sorotan dalam laga ini juga tertuju pada Antony. Gol ke gawang Everton tersebut membuat Antony masuk buku sejarah Manchester United sebagai pemain pertama yang selalu mencetak gol pada tiga penampilan awal di Premier League. Baca juga: Perincian 700 Gol Cristiano Ronaldo di Level Klub, 144 untuk Man United Pemilik nama lengkap Antony Matheus dos Santos memecahkan rekor Zlatan Ibrahimovic yang selalu mencetak gol dalam dua penampilan pertama Premier League bersama Setan Merah. Sebelum laga kontra Everton, Antony telah mengemas gol ke gawang Arsenal dan Manchester City. Usai mengukir sejarah dalam laga Everton vs Man United, pemain yang diboyong dari Ajax tersebut mengatakan bahwa ini baru awal. Ia pun menjanjikan lebih banyak gol kepada para pendukung Setan Merah. \"Luar biasa! Mencetak sejarah dan mewujudkan mimpi di sini,\" kata Antony melalui Twitter pribadinya. \"Terima kasih tim untuk mengizinkan dan mendukung saya mencapai itu. Dan saya berjanji kepada kalian bahwa ini hanya sebuah awal. Ayo maju untuk lebih!\" tandas pesepak bola 22 tahun tersebut. Amazing! Already making history and living the dream here! Thanks, team, for allowing and supporting me to achieve that.. and I can promise you that we are just beginning! Let’s go for more!! #RedDevils #MUFC @ManUtd ?????????????????????????????? pic.twitter.com/KVE8ioMX5M Baca juga: Bahagianya Erik ten Hag Lihat Ronaldo Cetak Gol Ke-700 Bagi Manchester United, kemenangan atas Everton membuat mereka kembali mendekat ke posisi empat besar. Armada Erik ten Hag saat ini menempati peringkat kelima klasemen Liga Inggris dengan nilai 15. Man United berjarak satu poin dari tim peringkat empat, Chelsea, yang sama-sama baru bermain delapan kali dan sembilan angka dari sang pemuncak klasemen, Arsenal, yang sudah memainkan sembilan laga.\n",
            " KOMPAS.com - Cristiano Ronaldo telah mencetak gol ke-700 sepanjang kariernya di level klub dalam kemenangan Manchester United atas Everton. Untuk merayakan pencapaiannya, Ronaldo membuat selebrasi gol yang baru, yaitu seperti sedang tertidur. Manchester United berhasil kembali ke jalur kemenangan setelah mengalahkan Everton dengan skor 2-1 pada pekan ke-10 Liga Inggris 2022/2023 pada Senin (10/10/2022) dini hari WIB. Ronaldo, yang masuk sebagai pemain pengganti, mencetak gol untuk Man United pada menit ke-44, membawa United unggul 2-1. Gol kedua Ronaldo sepanjang musim tersebut membawanya ke pencapaian eksklusif, yaitu gol ke-700 sepanjang karier berlaga di level klub. Baca juga: Perincian 700 Gol Cristiano Ronaldo di Level Klub, 144 untuk Man United Menurut catatan rekor dari FIFA, hanya pemain berkebangsaan Austria-Ceko, Josef Bican, yang mencetak lebih banyak gol dari Ronaldo di tingkat klub sekarang ini. Rekor Bican sebagai pencetak gol terbanyak sepanjang sejarah di level klub dan internasional pun telah dipecahkan oleh Ronaldo di awal tahun ini, mendorong catatan golnya di atas 800. Ini juga menjadi gol ke-144 yang telah ia cetak ketika berseragam Setan Merah, julukan Man United. Untuk merayakan pencapaian itu, Ronaldo tidak lagi melakukan selebrasi \"SIUUU\", tetapi ada selebrasi baru, dengan ia terlihat seperti sedang tertidur. Baca juga: 5 Fakta Everton Vs Man United: Ronaldo Cetak Gol Ke-700, Rekor Antony Setelah mencetak gol, Ronaldo berlari ke arah sudut lapangan sebelum kemudian rekan setimnya menyalaminya. Pada saat itu, ia meletakkan kedua tangan di atas dadanya dan memejamkan matanya sambil tersenyum, seperti orang yang sedang tertidur. Antony, yang mencetak gol pertama United pada laga tersebut, mengikuti gaya selebrasi tertidur Ronaldo tersebut di sampingnya. Night, Reds ???? pic.twitter.com/pOlzg9Qnvh Ronaldo sendiri belum memberi nama dari selebrasi gol tersebut, tetapi para penggemar sudah melabelinya sebagai \"Sleeping Celebration\" atau \"Calm Mind Celebration\". Baca juga: Antony Ukir Sejarah bersama Manchester United: Ini Baru Awal! Para pemain Man United juga memberikan apresiasi pada pencapaian ciamik dari pemenang lima gelar Ballon d'Or tersebut. \"Sulit menghitung jumlah gol Cristiano (Ronaldo) karena setiap minggu sepertinya ada rekor baru!\" puji Bruno Fernandes, berbicara pada BT Sport setelah pertandingan. \"Tentu saja, kami merasa bahagia. Dia (Ronaldo) telah bekerja keras untuk gol ini,\" kata kompatriot Ronaldo di timnas Portugal tersebut. \"Sangat penting bahwa tim kami menang dan tentu saja baginya sebagai penyerang ia (Ronaldo) mau mencetak gol dan kami sangat bahagia untuknya,\" ujar Fernandes.\n",
            " KOMPAS.com - Salah satu anggota TGIPF, Nugroho Setiawan, mengaku sudah melihat rekaman CCTV Pintu 13 Stadion Kanjuruhan. Nugroho Setiawan menyatakan situasi di Pintu 13 pada hari terjadinya tragedi Kanjuruhan sangat mengerikan. Menurut Nugroho Setiawan, rekaman CCTV memperlihatkan dengan jelas situasi ketika penonton berebut keluar dari Pintu 13 Stadion Kanjuruhan. Nugroho Setiawan dengan tegas menyatakan tumpukan massa di Pintu 13 adalah akibat dari keputusan pihak keamanan menembakkan gas air mata ke tribune. Sebagai informasi, Nugroho Setiawan adalah mantan pengurus PSSI yang memiliki lisensi Security Officer FIFA. Baca juga: Pintu 13 Terkunci, Panpel: Mohon Maaf, Oknum yang Menutup \"Saya sudah melihat rekaman CCTV kejadian, khususnya Pintu 13. Itu mengerikan sekali. Jadi, situasinya adalah pintu sudah terbuka, tetapi sangat kecil,\" ucap Nugroho Setiawan dikutip dari Kompas TV. \"Pintu itu seharusnya digunakan untuk jalur masuk penonton. Namun, dijadikan pintu keluar. Situasinya adalah orang-orang ketika itu berebut keluar,\" ujar Nugroho Setiawan.  \"Pada saat bersamaan, sebagian orang sudah jatuh, pingsan, terhimpit, terinjak, karena gas air mata,\" ucap Nugroho Setiawan.  \"Miris sekali saya melihat detik-detik beberapa penonton yang tertumpuk dan kehilangan nyawa. Itu terekam di CCTV,\" ujar Nugroho menambahkan. Pintu 13 memang kerap disebut titik lokasi yang paling banyak memakan korban jiwa saat Tragedi Kanjuruhan. Baca juga: Jokowi Usai Tinjau Kanjuruhan: Sorot Pintu 13, Audit Stadion, dan FIFA Presiden Joko Widodo bahkan sempat melihat langsung kondisi Pintu 13 ketika berkunjung ke Stadion Kanjuruhan pekan lalu. Dalam keterangannya, Presiden Jokowi menyoroti kondisi pintu yang terlalu kecil dan tangga yang curam. Diberitakan Kompas.com sebelumnya, Pintu 13 sempat terkunci ketika banyak orang panik berdesakan untuk menyelamatkan diri dari gas air mata. Hal itu diungkap oleh salah satu korban selamat tragedi Kanjuruhan bernama Eko Prianto (39).  \"Pintu 13, seperti kuburan massal. Banyak anak kecil, korban kebanyakan perempuan,\" ucap Eko kepada Kompas.com. Dalam keterangannya, Eko Prianto juga menyatakan bahwa banyak pintu lain Stadion Kanjuruhan yang terkunci saat kejadian. Baca juga: Kesaksian Saksi Mata di Gate 13 Stadion Kanjuruhan Adapun Abdul Haris selaku Ketua Panpel Arema FC sudah menyatakan bahwa seluruh pintu Stadion Kanjuruhan sudah terbuka beberapa menit sebelum laga Arema FC vs Persebaya berakhir. Abdul Haris mengaku heran karena menemukan banyak pintu Stadion Kanjuruhan justru terkunci tidak lama setelah pertandingan tuntas. Tengah pekan lalu, Abdul Haris ditetapkan sebagai tersangka tragedi Kanjuruhan berdasarkan keterangan Kapolri Listyo Sigit. Abdul Haris ditetapkan sebagai tersangka karena diduga melanggar Pasal 35 dan 360 KUHP tentang kelalaian yang menyebabkan kematian. Menurut Listyo Sigit, Abdul Haris sebagai penanggung jawab pertandingan abai terhadap keselamatan penonton karena menjual tiket melebihi kapasitas stadion.  Sebelumnya, Abdul Haris juga harus menerima sanksi dari Komisi Disiplin PSSI larangan berkecimpung di dunia sepak bola seumur hidup akibat tragedi Kanjuruhan. \n",
            " KOMPAS.com - Publik tanah air terus menantikan fakta-fakta terkait tragedi Kanjuruhan yang terjadi pada 1 Oktober lalu, tepatnya seusai laga Liga 1 antara Arema FC dan Persebaya Surabaya. Tim Gabungan Independen Pencari Fakta (TGIPF) yang ditugaskan mengusut tragedi Kanjuruhan juga masih bekerja demi bisa mengungkap persoalan secara menyeluruh. Di tengah-tengah itu, terdapat sejumlah temuan dan dugaan yang disampaikan secara terbuka kepada publik. Terkini, muncul temuan bahwa gas air mata yang ditembakkan di Stadion Kanjuruhan pada 1 Oktober 2022 sudah berada dalam kondisi expired alias kedaluwarsa. Selain itu, ada dugaan yang berkaitan dengan penetapan jadwal laga malam antara Arema FC dan Persebaya Surabaya. Baca juga: TGIPF Terima Informasi Penting dari Suporter Kepolisian Negara Republik Indonesia (Polri) melalui Kepala Divisi Hubungan Masyarakat (Humas) Irjen Dedi Prasetyo mengonfirmasi bahwa beberapa gas air mata yang ditembakkan pada saat kejadian sudah berada dalam kondisi kedaluwarsa. \"Ada beberapa yang ditemukan (kedaluwarsa) yang tahun 2021. Saya belum tahu jumlahnya, tapi itu yang masih didalami oleh labfor (laboratorium forensik,\" kata Dedi Prasetyo, dikutip dari Kompas TV, Senin (10/10/2022). Dedi menjelaskan, jika gas air mata memasuki masa kedaluwarsa, kadar zat kimia yang terkandung semakin menurun dan tidak begitu efektif. \"Ini (gas air mata) kimia, berbeda dengan makanan. Kalau makanan ketika kedaluwarsa makanan itu ada jamur, ada bakteri, yang bisa mengganggu kesehatan,\" ujar Dedi. Baca juga: Fakta Baru Tragedi Kanjuruhan: Polri Akui Beberapa Gas Air Mata Sudah Kedaluwarsa \"Sementara, gas air mata ini, ketika expired, justru kadar kimianya berkurang, sama dengan efektivitasnya. Ketika ditembakkan, tidak bisa lebih efektif lagi,\" katanya lagi. Komisioner Komnas HAM bidang Penyelidikan M Choirul Anam mengatakan, pihaknya sudah mengantongi informasi adanya gas air mata kedaluwarsa dalam tragedi Kanjuruhan. Namun, Choirul Anam merasa masih perlu melakukan pendalaman terkait informasi itu karena tembakan gas air mata disebut menjadi penyebab utama tragedi Kanjuruhan yang menewaskan 131 korban. \"Soal (gas air mata yang) kedaluwarsa itu informasinya memang kami dapatkan, tapi memang perlu pendalaman,\" ujar Anam dalam keterangan suara, Senin (10/10/2022). Baca juga: Investigasi TGIPF: Kanjuruhan Tak Layak, Anak Tangga, hingga Efek Gas Air Mata  Anggota TGIPF Rhenald Kasali mengungkapkan dugaan adanya pihak yang memiliki kekuatan untuk mengatur supaya laga Arema FC vs Persebaya Surabaya tetap digelar malam hari. Padahal sebelum pertandingan, pihak kepolisian disebut telah meminta agar laga Arema FC vs Persebaya Surabaya digeser dari pukul 20.00 WIB menjadi pukul 15.30 WIB. “Ada indikasi-indikasi yang misalnya kenapa bisa jadi malam, pada malam itu juga kemungkinan besar di situ ada pihak tertentu yang mempunyai kekuatan untuk mengatur tetap menjadi malam hari,” ujar Rhenald di Kantor Kemenko Polhukam, Jakarta, Senin (10/10/2022). Kendati demikian, Rhenald belum bisa mengungkap identitas sosok yang diduga memiliki kekuatan mengatur jadwal pertandingan tersebut. Baca juga: Temuan TGIPF: Penerangan Stadion Kanjuruhan Tak Layak, Kenapa Main Malam? \"Saya belum bisa, kita belum bisa sebutkan walaupun saudara-saudara sudah bisa menciumnya,” kata Rhenald. Rhenald menegaskan bahwa TGIPF akan memanggil pihak-pihak terkait untuk menindaklanjuti dugaan tersebut. \"Ya kita akan panggil semua. PT LIB akan datang, akan kita minta. PSSI akan kita panggil besok dan sejumlah pihak yang terkait dengan ini semua ya. Kita akan klarifikasi,” ucap Rhenald. Jadwal pertandingan malam memang menjadi salah satu persoalan yang menjadi pusat perhatian dalam tragedi Kanjuruhan. FIFA selaku induk sepak bola dunia pun menjadikan penjadwalan laga sebagai salah satu fokus utama dalam rencana transformasi sepak bola Indonesia.\n",
            " KOMPAS.com - Federasi Sepak Bola Inggris, FA, akan segera membuka investigasi atas insiden yang terjadi pada laga Arsenal vs Liverpool, Minggu (9/10/2022). Dalam rilis resminya, FA secara spesifik tidak menjabarkan insiden apa yang membuat mereka akan melakukan investigasi. Namun, banyak media Eropa menyebut investigasi FA berkaitan dengan adu mulut antara kapten Liverpool, Jordan Henderson, dan bek Arsenal, Gabriel. \"Kami mengetahui insiden yang terjadi pada laga Arsenal vs Liverpool. Kami sedang berdialog dengan ofisial pertandingan dan akan meninjau insiden itu,\" kata juru bicara FA dikutip dari ESPN. Baca juga: Arsenal Habisi Keyakinan Juara Liverpool Jordan Henderson tercatat dua kali beradu mulut dengan Gabriel pada laga Arsenal vs Liverpool. Tudingan yang kerap dibicarakan saat ini adalah Jordan Henderson mengucapkan kalimat bernada rasial terhadap Gabriel. Adu mulut pertama antara Henderson dan Gabriel terjadi pada menit ke-74 setelah wasit Michael Oliver memberi hadiah penalti untuk Arsenal. Gabriel ketika itu tampak sedang berbicara dengan Michael Oliver. Tidak lama berselang, Henderson mendadak mendorong Gabriel. Friksi antara Henderson dan Gabriel ketika itu sampai membuat kapten Arsenal, Granit Xhaka, bereaksi keras. Baca juga: Gol 58 Detik Arsenal Tegaskan Penyakit Liverpool Pada masa injury time babak kedua, Henderson dan Gabriel kembali beradu mulut di kotak penalti Liverpool. Berbeda dari sebelumnya, Gabriel kali ini tampak sangat geram dan menunjukkan ekspresi marah kepada Henderson. Jordan Henderson’s exchange with Gabriel Magalhaes during today’s game, what do you think he has said? #lfc #afc pic.twitter.com/osqVAIaPc9 Michael Oliver ketika itu langsung berlari ke pinggir lapangan untuk berbicara dengan pelatih kedua tim, Juergen Klopp (Liverpool) dan Mikel Arteta (Arsenal). Pembicaran Oliver dengan Klopp dan Arteta itu berlangsung cukup lama.  Oliver ketika itu dikabarkan memberi tahu penyebab adu mulut kedua antara Henderson dan Gabriel. Baca juga: Klasemen Liga Inggris, Arsenal Kembali ke Puncak Usai Tekuk Liverpool  Seusai laga, Klopp dan Arteta sempat diminta memberi penjelasan soal pembicaraan dengan Michael Oliver. Namun, Klopp dan Arteta menolak berbicara banyak. \"Apa yang terjadi di lapangan, tetap di lapangan,\" kata Arteta dikutip dari Sky Sports. Pertandingan Arsenal vs Liverpool sendiri berakhir dengan skor 3-2 untuk kemenangan tim tuan rumah. Kemenangan atas Liverpool mengantar Arsenal kembali ke puncak klasemen Liga Inggris dengan koleksi 24 poin dari sembilan laga. Di sisi lain, Liverpool asuhan Klopp kini tertahan di peringkat ke-10 tertinggal 14 angka dari Arsenal.\n",
            " KOMPAS.com - Timnas U17 Indonesia dinilai masuk perangkap ketika kalah telak 1-5 dari Malaysia pada laga Grup B Kualifikasi Piala Asia U17 2023, Minggu (9/10/2022) malam WIB. Hal itu merupakan penilaian dari pelatih timnas U17 Malaysia, Osmera bin Omaro. Osmera mengaku sangat bangga dan puas karena anak asuhnya mampu menjalan strategi dengan baik. \"Indonesia adalah tim bagus. Mungkin hari ini nasib mereka kurang baik. Saya memuji seluruh pemain saya karena mereka mengikuti semua arahan,\" kata Osmera dikutip dari BolaSport. \"Saya merasa mungkin Indonesia terperangkap dengan cara kami bermain. Kami sudah lama menyaksikan Indonesia bermain. Indonesia adalah tim bagus,\" ujar Osmera. \"Karena itu, kami harus bekerja keras. Di mana pun kami masuk, ternyata keberhasilan sangat baik. Bagi saya, performa pemain Malaysia sangat baik,\" ucap Osmera. Baca juga: Momen yang Runtuhkan Mental Timnas U17 Indonesia Saat Lawan Malaysia Timnas U17 Indonesia asuhan Bima Sakti sebenarnya mengambil inisiatif menyerang terlebih dahulu sejak awal babak pertama laga kontra Malaysia. Skuad Garuda Asia bahkan nyaris mencetak gol pada menit pertama andai tembakan kaki kanan Arkhan Kaka dari dalam kotak penalti tidak membentur tiang. Hingga menit ke-15, timnas U17 Indonesia sudah melepaskan tujuh tembakan ke arah gawang berbanding satu milik Malaysia. Namun, timnas U17 Indonesia mendadak seperti tertidur dan kehilangan konsentrasi pertandingan memasuki sepertiga kedua babak pertama. Timnas U17 Indonesa di luar dugaan kebobolan lima kali secara beruntun dalam kurun waktu 23 menit. Baca juga: Indonesia Kalah dari Malaysia dan Gagal Lolos Piala Asia U17, Absensi Iqbal Bukan Alasan Blunder fatal seperti kehilangan bola dengan mudah sampai jarak antarpemain yang terlalu jauh menjadi penyebab timnas U17 Indonesia babak belur tertinggal 0-5 pada babak pertama. Sebagai contoh, gol ketiga Malaysia yang diciptakan Anjasmirza Saharudin pada menit ke-23 berawal dari kesalahan bek kiri timnas U17 Indonesa, Habil Abdillah. Habil ketika itu melakukan blunder karena kehilangan bola tepat di depan kotak penalti timnas U17 Indonesia. Salah satu faktor yang kerap disebut menjadi penyebab buruknya organisasi pertahanan timnas U17 Indonesia absennya Iqbal Gwijangge. Kapten timnas U17 Indonesia itu terpaksa absen karena akumulasi kartu kuning. Menurut Osmera, Iqbal Gwijangge adalah pemain penting timnas U17 Indonesa. Namun, Osmera tidak melihat absennya Iqbal Gwijangge sebagai keuntungan timnas U17 Malaysia. Baca juga: Tangis Pilu Arkhan Usai Timnas U17 Kalah dari Malaysia, Tegakkan Kepala Kaka! \"Iqbal adalah kapten. Tentu terasa sekali dampaknya (terhadap timnas U17 Indonesia). Apakah itu membantu kami? Saya tidak tahu,\" ujar Osmera. \"Sebab, kami tidak mengubah apa pun. Kami tetap tampil seperti biasa dan tidak fokus kepada satu pemain,\" ucap Osmera menambahkan. Kemenangan telak atas Indonesia membuat timnas U17 Malaysia lolos ke putaran final Piala Asia U17 2023 dengan status juara Grup B. Di sisi lain, timnas U17 Indonesia asuhan Bima Sakti harus tersingkir meski sebelumnya sukses melibas Guam (14-0), Uni Emirat Arab (3-2), dan Palestina (2-0). Timnas U17 Indonesia gagal lolos karena hanya menempati peringkat ketujuh klasemen akhir runnerup terbaik Kualifikasi Piala Asia U17 2023.\n",
            " KOMPAS.com - Pebalap belia asal Indonesia, Qarrar Firhand Ali, mulai terbiasa menjalani hidup mandiri pasa usianya yang baru menyentuh 11 tahun. Qarrar Firhand sudah tinggal dan bersekolah di IBS (International Brescia School), Italia, sejak awal 2022. Sejak saat itu, Qarrar Firhand terpaksa hidup jauh dari orang tua dan sanak saudara sehingga harus melakukan segala hal dengan tangannya sendiri, termasuk ketika berada di sirkuit. Qarrar Firhand disebut harus melepas baju balap, menyimpannya kembali ke dalam koper, atau memasukkan semua barangnya sendiri, tanpa disuruh. Baca juga: Pebalap Qarrar Firhand Asah Kemampuan di Italia demi Mimpi ke F1 Putra mantan pebalap Formula, Firhand Ali, yang lahir di Jakarta pada 7 Januari 2011 itu juga sudah mulai beradaptasi dengan jadwal padat. Dia perlu membagi waktu antara balapan dan sekolah selama tinggal di Lonato, Brescia, Italia. Pada tahun ini saja, Qarrar Firhand harus mengikuti sekitar 40 seri balapan di berbagai sirkuit dan kota-kota di Italia. Dia pun tak boleh melupakan tanggung jawab untuk bersekolah, mulai dari Senin sampai Jumat, pukul delapan pagi hingga empat sore. Baca juga: Tampil di Italia, Qarrar Firhand Sukses Raih Podium Dalam hal balapan, proses belajar Qarrar Firhand dibantu oleh kehadiran para staf dan mekanik tim LA Motorsport. Qarrar Firhand juga didampingi oleh pelatih fisik, mental, dan psikologi, yakni Ricardo Paterni dan Lorenzo. Dia selalu didampingi oleh staf dan mekanik LA Motorsport ketika tampil pada balapan seri Auttuno Finale, Kelas Mini, di South Garda Internationl Circuit di Lonato, Brescia, Italia. Pada jeda waktu balapan, para instruktur mengambil kesempatan untuk berdiskusi sambil memberikan sejumlah tes yang tujuannya untuk membuat Qarrar lebih fokus pada apa yang ia lakukan. Baca juga: Qarrar Firhand Jadi Runner-up di Trofeo d’Autunno,  Kebiasaan hidup mandiri dan pendampingan dari para instruktur terbukti membuat diri Qarrar berkembang, baik sebagai individu maupun seorang pebalap. Qarrar berhasil meraih posisi pertama di heat kedua seri Auttuno Finale, akhir pekan lalu. Lalu, pada balapan pre-final, Minggu (9/10/2022), Qarrar finis di posisi kelima. Dia kemudian menduduki peringkat keenam pada balapan final. Kepala mekanik LA Motorsport, Rolland Chang, memberikan pujian kepada Qarrar yang mampu keluar dari tekanan hingga finis di posisi 10 besar. Baca juga: Tampil di Trofeo d’Estate Night Race 2022, Qarrar Firhand Finis Podium  Adapun kelas mini yang diikuti Qarrar pesertanya mencapai 112 pebalap sehingga balapan heat harus dibagi menjadi tiga. Meski belum bisa meraih podium, Qarrar mengaku puas dengan pencapaian yang ia ukir pada seri Auttuno Finale. \"Al (sapaan akrab Qarrar) kan sudah bilang, target Al tuh masuk 20 besar, tapi syukur bisa posisi keenam,\" kata Qarrar dalam rilis yang diterima KOMPAS.com, Senin (10/10/2022). \"Semua pebalap berat, bahkan yang juara aja merupakan juara dunia di WSB pekan lalu,\" ujar Qarrar. Setelah seri Auttuno Finale, Qarrar akan kembali tampil pada seri Rok Cup Trophy, 14-16 Oktober 2022.\n",
            " KOMPAS.com - Pelatih timnas U17 Indonesia Bima Sakti mengatakan bahwa mental pemainnya mulai runtuh usai Malaysia mencetak gol ketiga.  Timnas U17 Indonesia melawan Malaysia pada laga penentuan juara Grup B Kualifikasi Piala Asia U17 2023, Minggu (9/10/2022).  Pertandingan timnas U17 Indonesia vs Malaysia yang berlangsung Stadion Pakansari, Bogor, itu berakhir dengan skor 1-5.  Timnas U17 Indonesia sudah tertinggal 0-5 pada babak pertama. Sementara itu, satu gol Garuda Asia tercipta melalui aksi Arkhan Kaka pada injury time babak kedua.  Baca juga: Tangis Pilu Arkhan Usai Timnas U17 Kalah dari Malaysia, Tegakkan Kepala Kaka! Seusai pertandingan, Bima Sakti mengungkapkan gol ketiga Malaysia yang dicetak Anjasmirza merusak mental para pemainnya.  \"Saat mereka membuat gol ketiga, kami semakin down. Kami berusaha meningkatkan mental pemain lagi, tetapi tekanan laga ini memang tinggi,\" ucap Bima Sakti, dilansir dari Antara.  Menurut pelatih yang membawa Indonesia juara Piala AFF U16 2022 itu, keadaan pskilogis yang tak lagi kokoh membuah timnya sulit fokus.  Semua strategi pun tak berhasil terlaksana di lapangan. Arkhan Kaka dkk kesulitan mengantisipasi serangan Malaysia. Baca juga: Timnas U17 Indonesia Tak Lolos Piala Asia, Salah Strategi hingga Habis Bensin \"Kami sudah mengetahui mereka mempunyai serangan balik yang cepat,\" kata Bima Sakti.  \"Namun, kami sulit mengantisipasinya karena kurang koordinasi. Tidak ada yang menyangka skor bisa sebesar itu,\" tutur dia.  Kekalahan dari Malaysia membuat timnas U17 Indonesia tak berhasil ke putaran final Piala Asia U17 2023.  Baca juga: Daftar 16 Tim Lolos Piala Asia U17 2023: Ada Malaysia, Tanpa Indonesia Indonesia mengakhiri babak grup Kualifikasi Piala Asia U17 2023 sebagai runner-up Grup B dengan koleksi 9 poin hasil dari tiga kemenangan atas Guam (14-0), Uni Emirat Arab (3-2), dan Palestina (2-0), serta sekali kalah dari Malaysia (1-5).  Di bawah Indonesia ada Uni Emirat Arab, Guam, dan Palestina yang berurutan menghuni peringkat ketiga hingga kelima.  Dengan demikian, Indonesia Indonesia harus bersaing dengan sembilan tim dari grup lain untuk coba mengamankan enam tiket ke Piala Asia U17 2023 via jalur runner-up terbaik.  Ada 10 grup di Kualifikasi Piala Asia U17 2023 dengan jumlah tim berbeda. Grup A-D berisi lima negara, sedangkan Grup E-J dihuni empat tim.  Dalam klasemen runner-up terbaik, hasil pertandingan melawan peringkat keempat dan kelima pada klasemen akhir masing-masing grup tak dihitung.  Artinya, kemenangan Indonesia atas Guam dan Palestina tidak dihitung sehingga Garuda Asia hanya memiliki 3 poin di klasemen runner-up terbaik.  Sebelum laga-laga Kualifikasi Piala Asia U17 2023 rampung, Indonesia sempat berada di posisi keenam klasemen runner-up terbaik.  Akan tetapi, kemenangan 2-1 yang diraih Laos atas Kirgistan pada laga terakhir Grup I, ditambah dengan kekalahan tipis (1-2) India dari Arab Saudi di Grup D, pada Senin (10/10/2022) dini hari WIB, memastikan Indonesia tersingkir dari persaingan. Laos punya selisih gol yang lebih baik (-2) atas Indonesia (-3), dan menjadi satu dari enam tim yang lolos ke putaran final Piala Asia U17 2023 lewat jalur runner-up terbaik.\n"
          ]
        }
      ]
    },
    {
      "cell_type": "code",
      "metadata": {
        "id": "zH0KHjihwcCJ"
      },
      "source": [],
      "execution_count": null,
      "outputs": []
    },
    {
      "cell_type": "code",
      "metadata": {
        "id": "AHOGcQV4rQtn"
      },
      "source": [
        "import re\n",
        "import string\n",
        "from Sastrawi.Stemmer.StemmerFactory import StemmerFactory# create stemmer\n",
        "factory = StemmerFactory()\n",
        "stemmer = factory.create_stemmer()# stemming process\n",
        "# import StopWordRemoverFactory class\n",
        "from Sastrawi.StopWordRemover.StopWordRemoverFactory import StopWordRemoverFactory\n",
        "factory = StopWordRemoverFactory()\n",
        "stopword = factory.create_stop_word_remover()\n",
        "documents_clean=[]\n",
        "\n",
        "for d in documents:\n",
        "    outputstem= stemmer.stem(d)\n",
        "    d= stopword.remove(outputstem)\n",
        "    # Remove Unicode\n",
        "    document_test = re.sub(r'[^\\x00-\\x7F]+', ' ', d)\n",
        "    # Remove Mentions\n",
        "    document_test = re.sub(r'@\\w+', '', document_test)\n",
        "    # Lowercase the document\n",
        "    document_test = document_test.lower()\n",
        "    # Remove punctuations\n",
        "    document_test = re.sub(r'[%s]' % re.escape(string.punctuation), ' ', document_test)\n",
        "    # Lowercase the numbers\n",
        "    document_test = re.sub(r'[0-9]', '', document_test)\n",
        "    # Remove the doubled space\n",
        "    outputstop = re.sub(r'\\s{2,}', ' ', document_test)\n",
        "    documents_clean.append(outputstop)"
      ],
      "execution_count": null,
      "outputs": []
    },
    {
      "cell_type": "code",
      "metadata": {
        "colab": {
          "base_uri": "https://localhost:8080/"
        },
        "id": "t4L3TNcqseIO",
        "outputId": "57a5a0bd-b375-4187-99ea-baa258e3fb5b"
      },
      "source": [
        "documents_clean[0:5]"
      ],
      "execution_count": null,
      "outputs": [
        {
          "output_type": "execute_result",
          "data": {
            "text/plain": [
              "['kompas com arkhan kaka tak kuasa tahan tangis usai timnas u indonesia kalah malaysia laga akhir grup b kualifikasi piala asia u tangis arkhan kaka pecah iring bunyi peluit panjang tanda akhir laga timnas u indonesia vs malaysia stadion pakansari bogor minggu malam wib laga indonesia vs malaysia sangat arti arkhan kaka laga rebut status bagai juara grup b hadiah tiket otomatis putar final piala asia u timnas u indonesia kalah malaysia lima gol malaysia cipta zainurhakimi zain aram wafiy penalti anjasmirza saharudin afiq danish zulfkifli baca timnas u indonesia tak lolos piala asia salah strategi hingga habis bensin adapun satu gol balas timnas u indonesia cipta arkhan kaka menit ke tetapi gol arkhan kaka tak selamat indonesia kalah usai tanding remaja nama lengkap arkhan kaka putra purwanto tak kuasa tahan sedih main lahir blitar september menang lihat tunduk lesu lapang rekan tim arkhan kaka riski afrisal lalu datang hampir main nomor punggung lihat bantu semangat arkhan kompas com kristianto purnomo main timnas u indonesia arkhan kaka kecewa usai bobol gawang timnas malaysia laga kualifikasi piala asia u stadion pakansari kabupaten bogor minggu indonesia kalah atas malaysia adapun kalah buat timnas u indonesia mampu peringkat klasemen kualifikasi piala asia u koleksi sembilan poin malaysia duduk puncak klasemen poin hak lolos putar final piala asia u sisi kalah malaysia buat indonesia terima nyata gagal piala asia u tahun depan itu garuda asia juluk timnas u indonesia masuk enam peringkat baik baca klasemen runner up baik kualifikasi piala asia u indonesia singkir timnas u indonesia peringkat tujuh klasemen runner up baik kualifikasi piala asia u koleksi tiga poin selisih gol minus tiga menang raih laos atas kirgistan laga akhir grup i tambah kalah tipis india arab saudi grup d senin dini hari wib indonesia singkir saing laos punya selisih gol lebih baik atas indonesia jadi satu enam tim lolos putar final piala asia u lewat jalur runner up baik kompas com kristianto purnomo main timnas u indonesia arkhan kaka kecewa usai bobol gawang timnas malaysia pada laga kualifikasi piala asia u di stadion pakansari kabupaten bogor minggu indonesia kalah atas malaysia meski arkhan kaka dkk gagal lolos putar final piala asia u garuda asia tetap tegak kepala mereka juang hingga titik keringat habis bela nama indonesia di kualifikasi piala asia u ',\n",
              " 'kompas com malaysia kalah indonesia lolos putar final piala asia u berkat taktik sembunyi terap malaysia gabung grup b kualifikasi piala asia u saing indonesia uni emirat arab uea palestina guam laga pertama malaysia laku start bagus gasak palestina empat gol balas tanding ikut tim muda harimau malaya luar duga tahan imbang guam latih timnas u malaysia osmera bin omaro ungkap tim asuh memang main buruk lawan guam bagi strategi baca kalah telak malaysia timnas u indonesia masuk perangkap malaysia sengaja tampil lawan guam kuat baik endus saing kualifikasi afc bisa kata sengaja ingin tunjuk mampu benar lawan guam kata osmera bin omaro kutip berita hari senin betul tidak harap hasil seri ingin menang guam cetak gl ujung tanding osmera tambah taktik sembunyi nyata ampuh untuk kelabu lawan bukti pada laga akhir grup b malaysia selalu poin penuh malaysia menang tipis atas uea gasak timnas u indonesia stadion pakansari cibinong bogor baca momen runtuh mental timnas u indonesia lawan malaysia menang atas indonesia malaysia lolos putar final piala asia u status juara grup b sudah lama tunggu momen jadi apa kami laku semua kami tahu mampu para main kata osmera ucap selamat indonesia mereka tim sangat bagus mungkin hari untung mereka tidak bagus imbuh klasemen akhir grup b malaysia kantong poin empat tanding unggul satu angka atas indonesia posisi malaysia masuk empat negara asean lolos putar final piala asean u vietnam juara grup f thailand runner up grup f laos runner up grup i baca nasib kurang baik timnas u indonesia mata latih malaysia itu timnas indonesia betul peluang lolos bekal status tim peringkat dua namun indonesia cuma tempat peringkat tujuh klasemen akhir runner up baik kualifikasi piala asia u posisi itu tidak penuh syarat hanya enam tim atas klasemen runner up baik yang hak laju',\n",
              " 'kompas com laga everton vs manchester united warna catat sejarah buat antony sebut baru awal janji lebih banyak gol dukung setan merah partai everton vs manchester united pekan ke kompetisi atas liga inggris premier league jadi milik tim tamu lakon laga tandang stadion goodison park senin dini hari wib manchester united sukses takluk tuan rumah everton skor everton benar unggul lebih dulu lalu pakan akurat alex iwobi luar kotak penalti menit ke puluh menit kemudian antony catat nama papan skor usai tuntas umpan anthony martial baca hasil everton vs man united sensasi antony cr mu menang comeback satu menit waktu normal babak pertama selesai man united balik lewat gol cristiano ronaldo skor unggul tim tamu tahan hingga tanding rampung manchester united besut erik ten hag bawa pulang tiga poin goodison park berkat menang atas everton cristiano ronaldo cetak gol ke level klub sorot laga tuju antony gol gawang everton sebut buat antony masuk buku sejarah manchester united bagai main pertama selalu cetak gol tiga tampil awal premier league baca perinci gol cristiano ronaldo level klub man united milik nama lengkap antony matheus dos santos pecah rekor zlatan ibrahimovic selalu cetak gol dua tampil pertama premier league sama setan merah laga kontra everton antony emas gol gawang arsenal manchester city usai ukir sejarah laga everton vs man united main boyong ajax sebut kata ini baru awal pun janji lebih banyak gol para dukung setan merah luar biasa cetak sejarah wujud mimpi sini kata antony lalu twitter pribadi terima kasih tim izin dukung capai janji kalian ini buah awal ayo maju lebih tandas sepak bola tahun sebut amazing already making history and living the dream here thanks team for allowing and supporting me to achieve that and i can promise you that we are just beginning let s go for more reddevils mufc manutd pic twitter com kveiomxm baca juga bahagia erik ten hag lihat ronaldo cetak gol ke manchester united menang atas everton buat kembali dekat posisi empat besar armada erik ten hag ini tempat peringkat lima klasemen liga inggris nilai man united jarak satu poin tim peringkat empat chelsea sama baru main delapan kali dan sembilan angka sang puncak klasemen arsenal sudah main sembilan laga',\n",
              " 'kompas com cristiano ronaldo cetak gol ke panjang karier level klub menang manchester united atas everton raya capai ronaldo buat selebrasi gol baru sedang tidur manchester united hasil jalur menang kalah everton skor pekan ke liga inggris senin dini hari wib ronaldo masuk bagai main ganti cetak gol man united menit ke bawa united unggul gol ronaldo panjang musim sebut bawa capai eksklusif gol ke panjang karier laga level klub baca perinci gol cristiano ronaldo level klub man united turut catat rekor fifa main bangsa austria ceko josef bican cetak lebih banyak gol ronaldo tingkat klub sekarang rekor bican bagai cetak gol banyak panjang sejarah level klub internasional pecah ronaldo awal tahun dorong catat gol atas jadi gol ke cetak seragam setan merah juluk man united raya capai ronaldo lagi laku selebrasi siuuu ada selebrasi baru lihat sedang tidur baca fakta everton vs man united ronaldo cetak gol ke rekor antony cetak gol ronaldo lari ke arah sudut lapang kemudian rekan tim salam saat ia letak tangan atas dada mejam mata senyum orang sedang tidur antony cetak gol pertama united laga sebut ikut gaya selebrasi tidur ronaldo sebut samping night reds pic twitter com polzgqnvh ronaldo sendiri beri nama selebrasi gol sebut gemar label bagai sleeping celebration calm mind celebration baca antony ukir sejarah sama manchester united baru awal para main man united juga beri apresiasi capai ciamik menang lima gelar ballon d or sebut sulit hitung jumlah gol cristiano ronaldo tiap minggu seperti ada rekor baru puji bruno fernandes bicara bt sport telah tanding rasa bahagia ronaldo telah kerja keras gol kata kompatriot ronaldo timnas portugal sebut sangat penting tim menang tentu saja bagi bagai serang ia ronaldo mau cetak gol kami sangat bahagia ujar fernandes',\n",
              " 'kompas com salah satu anggota tgipf nugroho setiawan aku lihat rekam cctv pintu stadion kanjuruhan nugroho setiawan nyata situasi pintu hari jadi tragedi kanjuruhan sangat keri turut nugroho setiawan rekam cctv lihat jelas situasi tonton rebut keluar pintu stadion kanjuruhan nugroho setiawan tegas nyata tumpu massa pintu akibat putus pihak aman tembak gas air mata tribune bagai informasi nugroho setiawan mantan urus pssi milik lisensi security officer fifa baca pintu kunci panpel mohon maaf oknum tutup lihat rekam cctv jadi khusus pintu keri sekali jadi situasi pintu buka sangat kecil ucap nugroho setiawan kutip kompas tv pintu harus jalur masuk tonton jadi pintu keluar situasi orang rebut keluar ujar nugroho setiawan sama orang jatuh pingsan terhimpit injak gas air mata ucap nugroho setiawan miris sekali lihat detik beberapa tonton tumpuk hilang nyawa itu rekam cctv ujar nugroho tambah pintu memang kerap sebut titik lokasi paling banyak makan korban jiwa tragedi kanjuruhan baca jokowi usai tinjau kanjuruhan sorot pintu audit stadion fifa presiden joko widodo bahkan sempat lihat langsung kondisi pintu kunjung stadion kanjuruhan pekan lalu terang presiden jokowi sorot kondisi pintu terlalu kecil tangga curam berita kompas com pintu sempat kunci banyak orang panik desa untuk selamat diri gas air mata itu ungkap salah satu korban selamat tragedi kanjuruhan nama eko prianto pintu kubur massal banyak anak kecil korban banyak perempuan ucap eko kompas com terang eko prianto nyata banyak pintu stadion kanjuruhan kunci saat jadi baca saksi saksi mata gate stadion kanjuruhan adapun abdul haris selaku ketua panpel arema fc nyata seluruh pintu stadion kanjuruhan sudah buka beberapa menit laga arema fc vs baya akhir abdul haris aku heran temu banyak pintu stadion kanjuruhan justru kunci lama tanding tuntas tengah pekan lalu abdul haris tetap bagai sangka tragedi kanjuruhan dasar terang kapolri listyo sigit abdul haris tetap bagai sangka duga langgar pasal kuhp lalai sebab mati turut listyo sigit abdul haris bagai tanggung jawab tanding abai hadap selamat tonton jual tiket lebih kapasitas stadion abdul haris harus terima sanksi komisi disiplin pssi larang kecimpung dunia sepak bola umur hidup akibat tragedi kanjuruhan']"
            ]
          },
          "metadata": {},
          "execution_count": 7
        }
      ]
    },
    {
      "cell_type": "code",
      "metadata": {
        "colab": {
          "base_uri": "https://localhost:8080/"
        },
        "id": "w2NOgoZ-sT67",
        "outputId": "b5908b33-ab35-44a2-9258-2658588cc638"
      },
      "source": [
        "from sklearn.feature_extraction.text import TfidfVectorizer\n",
        "import pandas as pd\n",
        "tfidfvectorizer = TfidfVectorizer(analyzer='word')\n",
        "tfidf_wm = tfidfvectorizer.fit_transform(documents_clean)\n",
        "tfidf_tokens = tfidfvectorizer.get_feature_names()\n"
      ],
      "execution_count": null,
      "outputs": [
        {
          "output_type": "stream",
          "name": "stderr",
          "text": [
            "/usr/local/lib/python3.7/dist-packages/sklearn/utils/deprecation.py:87: FutureWarning: Function get_feature_names is deprecated; get_feature_names is deprecated in 1.0 and will be removed in 1.2. Please use get_feature_names_out instead.\n",
            "  warnings.warn(msg, category=FutureWarning)\n"
          ]
        }
      ]
    },
    {
      "cell_type": "code",
      "metadata": {
        "colab": {
          "base_uri": "https://localhost:8080/",
          "height": 522
        },
        "id": "vdKZKvSDtpZ7",
        "outputId": "74445e77-e460-4664-a841-276bad32d4ce"
      },
      "source": [
        "from sklearn.feature_extraction.text import CountVectorizer \n",
        "import matplotlib.pyplot as plt\n",
        "import numpy as np # linear algebra\n",
        "import pandas as pd # data processing, CSV file I/O (e.g. pd.read_csv)\n",
        "cv = CountVectorizer()\n",
        "words = cv.fit_transform(documents_clean)\n",
        "sum_words = words.sum(axis=0)\n",
        "\n",
        "\n",
        "words_freq = [(word, sum_words[0, idx]) for word, idx in cv.vocabulary_.items()]\n",
        "words_freq = sorted(words_freq, key = lambda x: x[1], reverse = True)\n",
        "frequency = pd.DataFrame(words_freq, columns=['word', 'freq'])\n",
        "\n",
        "color = plt.cm.twilight(np.linspace(0, 1, 20))\n",
        "frequency.head(20).plot(x='word', y='freq', kind='bar', figsize=(15, 7), color = color)\n",
        "plt.title(\"Most Frequently Occuring Words - Top 20\")"
      ],
      "execution_count": null,
      "outputs": [
        {
          "output_type": "execute_result",
          "data": {
            "text/plain": [
              "Text(0.5, 1.0, 'Most Frequently Occuring Words - Top 20')"
            ]
          },
          "metadata": {},
          "execution_count": 8
        },
        {
          "output_type": "display_data",
          "data": {
            "text/plain": [
              "<Figure size 1080x504 with 1 Axes>"
            ],
            "image/png": "[encoded data removed]"
          },
          "metadata": {
            "needs_background": "light"
          }
        }
      ]
    },
    {
      "cell_type": "code",
      "metadata": {
        "colab": {
          "base_uri": "https://localhost:8080/"
        },
        "id": "UAtkJhv-uRoa",
        "outputId": "0cae1b91-1ee3-438b-94b4-293f480564ab"
      },
      "source": [
        "from sklearn.cluster import KMeans\n",
        "true_k = 3\n",
        "model = KMeans(n_clusters=true_k, init='k-means++', max_iter=100, n_init=1)\n",
        "model.fit(words)"
      ],
      "execution_count": null,
      "outputs": [
        {
          "output_type": "execute_result",
          "data": {
            "text/plain": [
              "KMeans(max_iter=100, n_clusters=3, n_init=1)"
            ]
          },
          "metadata": {},
          "execution_count": 9
        }
      ]
    },
    {
      "cell_type": "code",
      "metadata": {
        "colab": {
          "base_uri": "https://localhost:8080/"
        },
        "id": "Yf3dXM2svOB0",
        "outputId": "785669aa-6b28-4dec-a692-cbdd8eb8155f"
      },
      "source": [
        "order_centroids = model.cluster_centers_.argsort()[:, ::-1]\n",
        "terms = cv.get_feature_names()\n",
        "\n",
        "for i in range(true_k):\n",
        "    print(\"Cluster %d:\" % i),\n",
        "    for ind in order_centroids[i, :10]:\n",
        "        print(' %s' % terms[ind]),\n",
        "    print\n",
        "\n",
        "print(\"\\n\")"
      ],
      "execution_count": null,
      "outputs": [
        {
          "output_type": "stream",
          "name": "stdout",
          "text": [
            "Cluster 0:\n",
            " indonesia\n",
            " malaysia\n",
            " timnas\n",
            " asia\n",
            " piala\n",
            " grup\n",
            " baik\n",
            " kalah\n",
            " kualifikasi\n",
            " arkhan\n",
            "Cluster 1:\n",
            " gol\n",
            " kanjuruhan\n",
            " united\n",
            " ronaldo\n",
            " jadi\n",
            " laga\n",
            " pintu\n",
            " sebut\n",
            " baca\n",
            " mata\n",
            "Cluster 2:\n",
            " qarrar\n",
            " balap\n",
            " firhand\n",
            " italia\n",
            " seri\n",
            " finale\n",
            " posisi\n",
            " auttuno\n",
            " tampil\n",
            " baca\n",
            "\n",
            "\n"
          ]
        },
        {
          "output_type": "stream",
          "name": "stderr",
          "text": [
            "/usr/local/lib/python3.7/dist-packages/sklearn/utils/deprecation.py:87: FutureWarning: Function get_feature_names is deprecated; get_feature_names is deprecated in 1.0 and will be removed in 1.2. Please use get_feature_names_out instead.\n",
            "  warnings.warn(msg, category=FutureWarning)\n"
          ]
        }
      ]
    },
    {
      "cell_type": "code",
      "metadata": {
        "colab": {
          "base_uri": "https://localhost:8080/"
        },
        "id": "OjpfWe5evU9g",
        "outputId": "b9c06696-c37a-4db6-a5fb-fc6923592274"
      },
      "source": [
        "print(\"Prediction\")\n",
        "Y = cv.transform([\"piala dunia\"])\n",
        "prediction = model.predict(Y)\n",
        "print(\"Cluster number :\", prediction)\n",
        "Y = cv.transform([\"ronaldo\"])\n",
        "prediction = model.predict(Y)\n",
        "print(\"Cluster number :\", prediction)"
      ],
      "execution_count": null,
      "outputs": [
        {
          "output_type": "stream",
          "name": "stdout",
          "text": [
            "Prediction\n",
            "Cluster number : [1]\n",
            "Cluster number : [1]\n"
          ]
        }
      ]
    },
    {
      "cell_type": "code",
      "metadata": {
        "colab": {
          "base_uri": "https://localhost:8080/",
          "height": 298
        },
        "id": "l00X2Hg4vijB",
        "outputId": "1adc0dc6-3e6c-4642-ab9f-316205147524"
      },
      "source": [
        "import scipy.cluster.hierarchy as sch\n",
        "X = cv.fit_transform(documents_clean).todense()\n",
        "dendrogram = sch.dendrogram(sch.linkage(X, method = 'ward',metric='euclidean'),orientation=\"top\")\n",
        "plt.title('Dendrogram')\n",
        "plt.xlabel('Jarak Ward')\n",
        "plt.ylabel('Nomor Dokumen')\n",
        "plt.show()"
      ],
      "execution_count": null,
      "outputs": [
        {
          "output_type": "display_data",
          "data": {
            "text/plain": [
              "<Figure size 432x288 with 1 Axes>"
            ],
            "image/png": "[encoded data removed]"
          },
          "metadata": {
            "needs_background": "light"
          }
        }
      ]
    },
    {
      "cell_type": "code",
      "metadata": {
        "colab": {
          "base_uri": "https://localhost:8080/",
          "height": 295
        },
        "id": "3PFI0j-WvzvI",
        "outputId": "0976b140-6f10-40ca-dd4a-80e521483e48"
      },
      "source": [
        "import scipy.cluster.hierarchy as sch\n",
        "X = cv.fit_transform(documents_clean).todense()\n",
        "dendrogram = sch.dendrogram(sch.linkage(X, method = 'average',metric='euclidean'),orientation=\"right\")\n",
        "plt.title('Dendrogram')\n",
        "plt.xlabel('Jarak Rerata')\n",
        "plt.ylabel('Nomor Dokumen')\n",
        "plt.show()"
      ],
      "execution_count": null,
      "outputs": [
        {
          "output_type": "display_data",
          "data": {
            "text/plain": [
              "<Figure size 432x288 with 1 Axes>"
            ],
            "image/png": "[encoded data removed]"
          },
          "metadata": {
            "needs_background": "light"
          }
        }
      ]
    },
    {
      "cell_type": "code",
      "metadata": {
        "colab": {
          "base_uri": "https://localhost:8080/"
        },
        "id": "LfFgIcrIv-tz",
        "outputId": "72fab049-137c-415c-f129-f140104377d7"
      },
      "source": [
        "from sklearn.cluster import AgglomerativeClustering\n",
        "\n",
        "cluster = AgglomerativeClustering(n_clusters=6, affinity='euclidean', linkage='ward')  \n",
        "cluster.fit_predict(X) \n",
        "print(cluster.labels_)"
      ],
      "execution_count": null,
      "outputs": [
        {
          "output_type": "stream",
          "name": "stdout",
          "text": [
            "[0 0 2 2 5 3 4 0 1 0]\n"
          ]
        },
        {
          "output_type": "stream",
          "name": "stderr",
          "text": [
            "/usr/local/lib/python3.7/dist-packages/sklearn/utils/validation.py:598: FutureWarning: np.matrix usage is deprecated in 1.0 and will raise a TypeError in 1.2. Please convert to a numpy array with np.asarray. For more information see: https://numpy.org/doc/stable/reference/generated/numpy.matrix.html\n",
            "  FutureWarning,\n"
          ]
        }
      ]
    },
    {
      "cell_type": "code",
      "metadata": {
        "colab": {
          "base_uri": "https://localhost:8080/",
          "height": 431
        },
        "id": "JmekS47lwOlE",
        "outputId": "7e58201f-4c35-479b-a5f7-b00dde315a9d"
      },
      "source": [
        "from scipy.cluster.hierarchy import dendrogram, linkage\n",
        "from matplotlib import pyplot as plt\n",
        "\n",
        "linked = linkage(X, 'single')\n",
        "\n",
        "labelList = range(0, 10)\n",
        "\n",
        "plt.figure(figsize=(10, 7))\n",
        "dendrogram(linked,\n",
        "            orientation='top',\n",
        "            labels=labelList,\n",
        "            distance_sort='descending',\n",
        "            show_leaf_counts=True)\n",
        "plt.show()"
      ],
      "execution_count": null,
      "outputs": [
        {
          "output_type": "display_data",
          "data": {
            "text/plain": [
              "<Figure size 720x504 with 1 Axes>"
            ],
            "image/png": "[encoded data removed]"
          },
          "metadata": {
            "needs_background": "light"
          }
        }
      ]
    },
    {
      "cell_type": "code",
      "metadata": {
        "colab": {
          "base_uri": "https://localhost:8080/",
          "height": 431
        },
        "id": "bVd5C68GwUMh",
        "outputId": "048a4f60-2b7a-427a-cfaa-10c5bb018a1f"
      },
      "source": [
        "from scipy.cluster.hierarchy import dendrogram, linkage\n",
        "from matplotlib import pyplot as plt\n",
        "\n",
        "linked = linkage(X, 'average')\n",
        "\n",
        "labelList = range(0, 10)\n",
        "\n",
        "plt.figure(figsize=(10, 7))\n",
        "dendrogram(linked,\n",
        "            orientation='top',\n",
        "            labels=labelList,\n",
        "            distance_sort='descending',\n",
        "            show_leaf_counts=True)\n",
        "plt.show()"
      ],
      "execution_count": null,
      "outputs": [
        {
          "output_type": "display_data",
          "data": {
            "text/plain": [
              "<Figure size 720x504 with 1 Axes>"
            ],
            "image/png": "[encoded data removed]"
          },
          "metadata": {
            "needs_background": "light"
          }
        }
      ]
    }
  ]
}