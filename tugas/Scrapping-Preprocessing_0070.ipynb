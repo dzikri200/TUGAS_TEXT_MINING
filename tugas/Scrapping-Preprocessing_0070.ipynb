{
  "nbformat": 4,
  "nbformat_minor": 0,
  "metadata": {
    "colab": {
      "provenance": [],
      "collapsed_sections": []
    },
    "kernelspec": {
      "name": "python3",
      "display_name": "Python 3"
    },
    "language_info": {
      "name": "python"
    }
  },
  "cells": [
    {
      "cell_type": "markdown",
      "source": [
        "<b><h5>TUGAS TEXT MINING (SCRAPPING & PREPROCESSING)</h5></b>\n",
        "\n",
        "<p align=\"justify\">\n",
        "NAMA&nbsp&nbsp&nbsp: DZIKRI FAUZUL MAJID<br>\n",
        "NIM&nbsp&nbsp&nbsp&nbsp&nbsp&nbsp&nbsp: 20.01.53.0070<br>"
      ],
      "metadata": {
        "id": "boEsjN320IBD"
      }
    },
    {
      "cell_type": "code",
      "source": [
        "pip install google-search-results"
      ],
      "metadata": {
        "colab": {
          "base_uri": "https://localhost:8080/",
          "height": 0
        },
        "id": "wQFkaslD2NKG",
        "outputId": "1ddff515-21de-471c-ed6e-e9ab1a9195c3"
      },
      "execution_count": 2,
      "outputs": [
        {
          "output_type": "stream",
          "name": "stdout",
          "text": [
            "Looking in indexes: https://pypi.org/simple, https://us-python.pkg.dev/colab-wheels/public/simple/\n",
            "Collecting google-search-results\n",
            "  Downloading google_search_results-2.4.1.tar.gz (11 kB)\n",
            "Requirement already satisfied: requests in /usr/local/lib/python3.7/dist-packages (from google-search-results) (2.23.0)\n",
            "Requirement already satisfied: urllib3!=1.25.0,!=1.25.1,<1.26,>=1.21.1 in /usr/local/lib/python3.7/dist-packages (from requests->google-search-results) (1.24.3)\n",
            "Requirement already satisfied: certifi>=2017.4.17 in /usr/local/lib/python3.7/dist-packages (from requests->google-search-results) (2022.9.24)\n",
            "Requirement already satisfied: chardet<4,>=3.0.2 in /usr/local/lib/python3.7/dist-packages (from requests->google-search-results) (3.0.4)\n",
            "Requirement already satisfied: idna<3,>=2.5 in /usr/local/lib/python3.7/dist-packages (from requests->google-search-results) (2.10)\n",
            "Building wheels for collected packages: google-search-results\n",
            "  Building wheel for google-search-results (setup.py) ... \u001b[?25l\u001b[?25hdone\n",
            "  Created wheel for google-search-results: filename=google_search_results-2.4.1-py3-none-any.whl size=25789 sha256=d46b36e7292ab539fab13ec6028c736c6e9e091c1f32123938279a559c7a3faa\n",
            "  Stored in directory: /root/.cache/pip/wheels/82/a3/c5/364155118f298722dff2f79ae4dd7c91e92b433ad36d6f7e0e\n",
            "Successfully built google-search-results\n",
            "Installing collected packages: google-search-results\n",
            "Successfully installed google-search-results-2.4.1\n"
          ]
        }
      ]
    },
    {
      "cell_type": "code",
      "source": [
        "from serpapi import GoogleSearch\n",
        "\n",
        "params = {\n",
        "  \"engine\": \"google_maps\",\n",
        "  \"q\": \"masjid\",\n",
        "  \"hl\": \"id\",\n",
        "  \"ll\": \"@-7.0245542,110.3470247,12z\",\n",
        "  \"type\": \"search\",\n",
        "  \"api_key\": \"004fa1f7c6bc13a724ed6c840b59ec7492978004fd579689c87d1bd814b513f3\"\n",
        "}\n",
        "\n",
        "search = GoogleSearch(params)\n",
        "results = search.get_dict()\n",
        "local_results = results[\"local_results\"]"
      ],
      "metadata": {
        "colab": {
          "base_uri": "https://localhost:8080/",
          "height": 0
        },
        "id": "nafS3QPm1pwE",
        "outputId": "f6fd133b-e72c-462a-9cef-fba0d372c6df"
      },
      "execution_count": 20,
      "outputs": [
        {
          "output_type": "stream",
          "name": "stdout",
          "text": [
            "https://serpapi.com/search\n"
          ]
        }
      ]
    },
    {
      "cell_type": "code",
      "source": [
        "local_results"
      ],
      "metadata": {
        "colab": {
          "base_uri": "https://localhost:8080/",
          "height": 0
        },
        "id": "3n1twBg82hjQ",
        "outputId": "4879c66c-d23a-4ccd-8320-8cae5415a553"
      },
      "execution_count": 21,
      "outputs": [
        {
          "output_type": "execute_result",
          "data": {
            "text/plain": [
              "[{'position': 1,\n",
              "  'title': 'Masjid Al Muslim',\n",
              "  'place_id': 'ChIJqbc0hTeLcC4RIFZqsKtJ0ig',\n",
              "  'data_id': '0x2e708b378534b7a9:0x28d249abb06a5620',\n",
              "  'data_cid': '2941494508374349344',\n",
              "  'reviews_link': 'https://serpapi.com/search.json?data_id=0x2e708b378534b7a9%3A0x28d249abb06a5620&engine=google_maps_reviews&hl=id',\n",
              "  'photos_link': 'https://serpapi.com/search.json?data_id=0x2e708b378534b7a9%3A0x28d249abb06a5620&engine=google_maps_photos&hl=id',\n",
              "  'gps_coordinates': {'latitude': -6.9858975, 'longitude': 110.3999949},\n",
              "  'place_id_search': 'https://serpapi.com/search.json?data=%214m5%213m4%211s0x2e708b378534b7a9%3A0x28d249abb06a5620%218m2%213d-6.9858975%214d110.3999949&engine=google_maps&google_domain=google.com&hl=id&type=place',\n",
              "  'rating': 4.9,\n",
              "  'reviews': 18,\n",
              "  'unclaimed_listing': True,\n",
              "  'type': 'Masjid',\n",
              "  'address': '297X+JXX, Jl. Puspanjolo Dalam, Bojongsalaman, Kec. Semarang Barat, Kota Semarang, Jawa Tengah 50141, Indonesia',\n",
              "  'thumbnail': 'https://lh5.googleusercontent.com/p/AF1QipN6C0Cf_GAvcpqMpKvmTYROGO9xgchilP2RGbYe=w163-h92-k-no'},\n",
              " {'position': 2,\n",
              "  'title': 'Masjid Agung Jawa Tengah (MAJT)',\n",
              "  'place_id': 'ChIJHySYbLeMcC4R-RvUJK9z-2o',\n",
              "  'data_id': '0x2e708cb76c98241f:0x6afb73af24d41bf9',\n",
              "  'data_cid': '7708882383249087481',\n",
              "  'reviews_link': 'https://serpapi.com/search.json?data_id=0x2e708cb76c98241f%3A0x6afb73af24d41bf9&engine=google_maps_reviews&hl=id',\n",
              "  'photos_link': 'https://serpapi.com/search.json?data_id=0x2e708cb76c98241f%3A0x6afb73af24d41bf9&engine=google_maps_photos&hl=id',\n",
              "  'gps_coordinates': {'latitude': -6.983460699999999,\n",
              "   'longitude': 110.4451271},\n",
              "  'place_id_search': 'https://serpapi.com/search.json?data=%214m5%213m4%211s0x2e708cb76c98241f%3A0x6afb73af24d41bf9%218m2%213d-6.983460699999999%214d110.4451271&engine=google_maps&google_domain=google.com&hl=id&type=place',\n",
              "  'rating': 4.7,\n",
              "  'reviews': 22123,\n",
              "  'type': 'Masjid',\n",
              "  'address': 'Jl. Gajah Raya, Sambirejo, Kec. Gayamsari, Kota Semarang, Jawa Tengah 50166, Indonesia',\n",
              "  'open_state': 'Buka 24 jam',\n",
              "  'hours': 'Buka 24 jam',\n",
              "  'operating_hours': {'senin': 'Buka 24 jam',\n",
              "   'selasa': 'Buka 24 jam',\n",
              "   'rabu': 'Buka 24 jam',\n",
              "   'kamis': 'Buka 24 jam',\n",
              "   'jumat': 'Buka 24 jam',\n",
              "   'sabtu': 'Buka 24 jam',\n",
              "   'minggu': 'Buka 24 jam'},\n",
              "  'phone': '+62 821-3497-0000',\n",
              "  'website': 'https://majt.or.id/',\n",
              "  'description': 'Kompleks masjid luas dengan restoran. Kompleks masjid modern yang luas dengan gaya arsitektur campuran & restoran berputar dengan pemandangan.',\n",
              "  'thumbnail': 'https://lh5.googleusercontent.com/p/AF1QipOqjmvb1F4CSm9I0oP6c90Kj4q7C_RVILCu2Zws=w122-h92-k-no'},\n",
              " {'position': 3,\n",
              "  'title': 'Masjid Taqwa Al Mukarramah',\n",
              "  'place_id': 'ChIJ3TVQ2LiMcC4R6uyrvo2fyzw',\n",
              "  'data_id': '0x2e708cb8d85035dd:0x3ccb9f8dbeabecea',\n",
              "  'data_cid': '4380770493686082794',\n",
              "  'reviews_link': 'https://serpapi.com/search.json?data_id=0x2e708cb8d85035dd%3A0x3ccb9f8dbeabecea&engine=google_maps_reviews&hl=id',\n",
              "  'photos_link': 'https://serpapi.com/search.json?data_id=0x2e708cb8d85035dd%3A0x3ccb9f8dbeabecea&engine=google_maps_photos&hl=id',\n",
              "  'gps_coordinates': {'latitude': -6.9886744, 'longitude': 110.4467006},\n",
              "  'place_id_search': 'https://serpapi.com/search.json?data=%214m5%213m4%211s0x2e708cb8d85035dd%3A0x3ccb9f8dbeabecea%218m2%213d-6.9886744%214d110.4467006&engine=google_maps&google_domain=google.com&hl=id&type=place',\n",
              "  'rating': 4.8,\n",
              "  'reviews': 36,\n",
              "  'unclaimed_listing': True,\n",
              "  'type': 'Masjid',\n",
              "  'address': 'Jl. Medoho Seruni No.24, Sambirejo, Kec. Gayamsari, Kota Semarang, Jawa Tengah 50166, Indonesia',\n",
              "  'phone': '+62 24 6733082',\n",
              "  'thumbnail': 'https://lh5.googleusercontent.com/p/AF1QipNd1Q0NYDmhGTkE6LeeQBhg-a0G5kcq82wg6lJD=w122-h92-k-no'},\n",
              " {'position': 4,\n",
              "  'title': 'Masjid Al-Fattah',\n",
              "  'place_id': 'ChIJY87yngCMcC4R1uHmJ67y9G0',\n",
              "  'data_id': '0x2e708c009ef2ce63:0x6df4f2ae27e6e1d6',\n",
              "  'data_cid': '7923224474259218902',\n",
              "  'reviews_link': 'https://serpapi.com/search.json?data_id=0x2e708c009ef2ce63%3A0x6df4f2ae27e6e1d6&engine=google_maps_reviews&hl=id',\n",
              "  'photos_link': 'https://serpapi.com/search.json?data_id=0x2e708c009ef2ce63%3A0x6df4f2ae27e6e1d6&engine=google_maps_photos&hl=id',\n",
              "  'gps_coordinates': {'latitude': -7.052884499999999,\n",
              "   'longitude': 110.4264352},\n",
              "  'place_id_search': 'https://serpapi.com/search.json?data=%214m5%213m4%211s0x2e708c009ef2ce63%3A0x6df4f2ae27e6e1d6%218m2%213d-7.052884499999999%214d110.4264352&engine=google_maps&google_domain=google.com&hl=id&type=place',\n",
              "  'rating': 4.8,\n",
              "  'reviews': 38,\n",
              "  'unclaimed_listing': True,\n",
              "  'type': 'Masjid',\n",
              "  'address': 'WCWG+RHV, Jl. Sumurboto II, Sumurboto, Kec. Banyumanik, Kota Semarang, Jawa Tengah 50269, Indonesia',\n",
              "  'thumbnail': 'https://lh5.googleusercontent.com/p/AF1QipPKLupWyH7jhai116XTZCnpHKLowipZ4_XWcUe-=w163-h92-k-no'},\n",
              " {'position': 5,\n",
              "  'title': 'Masjid Al Huda',\n",
              "  'place_id': 'ChIJvSd-ujeLcC4RVoP2MGq1rb4',\n",
              "  'data_id': '0x2e708b37ba7e27bd:0xbeadb56a30f68356',\n",
              "  'data_cid': '13739837505869874006',\n",
              "  'reviews_link': 'https://serpapi.com/search.json?data_id=0x2e708b37ba7e27bd%3A0xbeadb56a30f68356&engine=google_maps_reviews&hl=id',\n",
              "  'photos_link': 'https://serpapi.com/search.json?data_id=0x2e708b37ba7e27bd%3A0xbeadb56a30f68356&engine=google_maps_photos&hl=id',\n",
              "  'gps_coordinates': {'latitude': -6.9846357999999995,\n",
              "   'longitude': 110.40032599999999},\n",
              "  'place_id_search': 'https://serpapi.com/search.json?data=%214m5%213m4%211s0x2e708b37ba7e27bd%3A0xbeadb56a30f68356%218m2%213d-6.9846357999999995%214d110.40032599999999&engine=google_maps&google_domain=google.com&hl=id&type=place',\n",
              "  'rating': 4.8,\n",
              "  'reviews': 32,\n",
              "  'unclaimed_listing': True,\n",
              "  'type': 'Masjid',\n",
              "  'address': '2C82+44W, Jl. Puspanjolo Timur VII, Bojongsalaman, Kec. Semarang Barat, Kota Semarang, Jawa Tengah 50141, Indonesia',\n",
              "  'thumbnail': 'https://lh5.googleusercontent.com/p/AF1QipNXrXP-H0DZ0VZVy-lxhWP4gAnZ8ZsmFyj_qlmj=w163-h92-k-no'},\n",
              " {'position': 6,\n",
              "  'title': 'Masjid Al Madani',\n",
              "  'place_id': 'ChIJJVbotM70cC4R8q9ATlrjjSQ',\n",
              "  'data_id': '0x2e70f4ceb4e85625:0x248de35a4e40aff2',\n",
              "  'data_cid': '2634011334081032178',\n",
              "  'reviews_link': 'https://serpapi.com/search.json?data_id=0x2e70f4ceb4e85625%3A0x248de35a4e40aff2&engine=google_maps_reviews&hl=id',\n",
              "  'photos_link': 'https://serpapi.com/search.json?data_id=0x2e70f4ceb4e85625%3A0x248de35a4e40aff2&engine=google_maps_photos&hl=id',\n",
              "  'gps_coordinates': {'latitude': -6.9704014999999995,\n",
              "   'longitude': 110.39631329999999},\n",
              "  'place_id_search': 'https://serpapi.com/search.json?data=%214m5%213m4%211s0x2e70f4ceb4e85625%3A0x248de35a4e40aff2%218m2%213d-6.9704014999999995%214d110.39631329999999&engine=google_maps&google_domain=google.com&hl=id&type=place',\n",
              "  'rating': 4.7,\n",
              "  'reviews': 107,\n",
              "  'unclaimed_listing': True,\n",
              "  'type': 'Masjid',\n",
              "  'address': '29HW+RGP, Tawangmas, Kec. Semarang Barat, Kota Semarang, Jawa Tengah 50144, Indonesia',\n",
              "  'open_state': 'Buka 24 jam',\n",
              "  'hours': 'Buka 24 jam',\n",
              "  'operating_hours': {'senin': 'Buka 24 jam',\n",
              "   'selasa': 'Buka 24 jam',\n",
              "   'rabu': 'Buka 24 jam',\n",
              "   'kamis': 'Buka 24 jam',\n",
              "   'jumat': 'Buka 24 jam',\n",
              "   'sabtu': 'Buka 24 jam',\n",
              "   'minggu': 'Buka 24 jam'},\n",
              "  'thumbnail': 'https://lh5.googleusercontent.com/p/AF1QipPO62SpZKiZwIkcX4ZyjEwGjvCO-mDSKbHTQ7hM=w165-h92-k-no'},\n",
              " {'position': 7,\n",
              "  'title': 'Masjid Al Jauhari',\n",
              "  'place_id': 'ChIJ4YkZZ3yLcC4RTQvJDmtddWU',\n",
              "  'data_id': '0x2e708b7c671989e1:0x65755d6b0ec90b4d',\n",
              "  'data_cid': '7310852284496808781',\n",
              "  'reviews_link': 'https://serpapi.com/search.json?data_id=0x2e708b7c671989e1%3A0x65755d6b0ec90b4d&engine=google_maps_reviews&hl=id',\n",
              "  'photos_link': 'https://serpapi.com/search.json?data_id=0x2e708b7c671989e1%3A0x65755d6b0ec90b4d&engine=google_maps_photos&hl=id',\n",
              "  'gps_coordinates': {'latitude': -7.0086873999999995,\n",
              "   'longitude': 110.4213175},\n",
              "  'place_id_search': 'https://serpapi.com/search.json?data=%214m5%213m4%211s0x2e708b7c671989e1%3A0x65755d6b0ec90b4d%218m2%213d-7.0086873999999995%214d110.4213175&engine=google_maps&google_domain=google.com&hl=id&type=place',\n",
              "  'rating': 4.8,\n",
              "  'reviews': 275,\n",
              "  'unclaimed_listing': True,\n",
              "  'type': 'Masjid',\n",
              "  'address': 'Jl. Kawi Raya No.12, Tegalsari, Kec. Candisari, Kota Semarang, Jawa Tengah 50614, Indonesia',\n",
              "  'phone': '+62 24 8315402',\n",
              "  'thumbnail': 'https://lh5.googleusercontent.com/p/AF1QipOJ7rGfrpfLkZQ60LRALCcOd3OVcj3_DWJbCQXD=w80-h97-k-no'},\n",
              " {'position': 8,\n",
              "  'title': 'Masjid Baitussalam',\n",
              "  'place_id': 'ChIJ7fh-XoWOcC4RTgz3fOnZk3Q',\n",
              "  'data_id': '0x2e708e855e7ef8ed:0x7493d9e97cf70c4e',\n",
              "  'data_cid': '8400297326823279694',\n",
              "  'reviews_link': 'https://serpapi.com/search.json?data_id=0x2e708e855e7ef8ed%3A0x7493d9e97cf70c4e&engine=google_maps_reviews&hl=id',\n",
              "  'photos_link': 'https://serpapi.com/search.json?data_id=0x2e708e855e7ef8ed%3A0x7493d9e97cf70c4e&engine=google_maps_photos&hl=id',\n",
              "  'gps_coordinates': {'latitude': -7.064678499999999,\n",
              "   'longitude': 110.4632628},\n",
              "  'place_id_search': 'https://serpapi.com/search.json?data=%214m5%213m4%211s0x2e708e855e7ef8ed%3A0x7493d9e97cf70c4e%218m2%213d-7.064678499999999%214d110.4632628&engine=google_maps&google_domain=google.com&hl=id&type=place',\n",
              "  'rating': 4.7,\n",
              "  'reviews': 66,\n",
              "  'unclaimed_listing': True,\n",
              "  'type': 'Masjid',\n",
              "  'address': 'WFP7+48C, Jl. Dinar Mas Utara IV, Meteseh, Kec. Tembalang, Kota Semarang, Jawa Tengah 50271, Indonesia',\n",
              "  'open_state': 'Buka 24 jam',\n",
              "  'hours': 'Buka 24 jam',\n",
              "  'operating_hours': {'senin': 'Buka 24 jam',\n",
              "   'selasa': 'Buka 24 jam',\n",
              "   'rabu': 'Buka 24 jam',\n",
              "   'kamis': 'Buka 24 jam',\n",
              "   'jumat': 'Buka 24 jam',\n",
              "   'sabtu': 'Buka 24 jam',\n",
              "   'minggu': 'Buka 24 jam'},\n",
              "  'thumbnail': 'https://lh5.googleusercontent.com/p/AF1QipMwxoIF-IM9RwWcD82sqeOMe9CF0m_BsdzrEU8U=w122-h92-k-no'},\n",
              " {'position': 9,\n",
              "  'title': 'Masjid Al Munir',\n",
              "  'place_id': 'ChIJe_QC0EuJcC4RahfcDKwqomo',\n",
              "  'data_id': '0x2e70894bd002f47b:0x6aa22aac0cdc176a',\n",
              "  'data_cid': '7683750832685979498',\n",
              "  'reviews_link': 'https://serpapi.com/search.json?data_id=0x2e70894bd002f47b%3A0x6aa22aac0cdc176a&engine=google_maps_reviews&hl=id',\n",
              "  'photos_link': 'https://serpapi.com/search.json?data_id=0x2e70894bd002f47b%3A0x6aa22aac0cdc176a&engine=google_maps_photos&hl=id',\n",
              "  'gps_coordinates': {'latitude': -7.074945199999999,\n",
              "   'longitude': 110.42036519999999},\n",
              "  'place_id_search': 'https://serpapi.com/search.json?data=%214m5%213m4%211s0x2e70894bd002f47b%3A0x6aa22aac0cdc176a%218m2%213d-7.074945199999999%214d110.42036519999999&engine=google_maps&google_domain=google.com&hl=id&type=place',\n",
              "  'rating': 4.8,\n",
              "  'reviews': 117,\n",
              "  'unclaimed_listing': True,\n",
              "  'type': 'Masjid',\n",
              "  'address': 'WCGC+24H, Jl. Meranti Tim. Dlm IV, Padangsari, Kec. Banyumanik, Kota Semarang, Jawa Tengah 50263, Indonesia',\n",
              "  'thumbnail': 'https://lh5.googleusercontent.com/p/AF1QipP5et5vw-T1BYfAq3ukm7niZXDvkxeRFSAZNltR=w122-h92-k-no'},\n",
              " {'position': 10,\n",
              "  'title': 'Masjid Al Amin',\n",
              "  'place_id': 'ChIJEyS1GKqOcC4RMySMo8syg2c',\n",
              "  'data_id': '0x2e708eaa18b52413:0x678332cba38c2433',\n",
              "  'data_cid': '7458861258059293747',\n",
              "  'reviews_link': 'https://serpapi.com/search.json?data_id=0x2e708eaa18b52413%3A0x678332cba38c2433&engine=google_maps_reviews&hl=id',\n",
              "  'photos_link': 'https://serpapi.com/search.json?data_id=0x2e708eaa18b52413%3A0x678332cba38c2433&engine=google_maps_photos&hl=id',\n",
              "  'gps_coordinates': {'latitude': -7.057462, 'longitude': 110.43179049999999},\n",
              "  'place_id_search': 'https://serpapi.com/search.json?data=%214m5%213m4%211s0x2e708eaa18b52413%3A0x678332cba38c2433%218m2%213d-7.057462%214d110.43179049999999&engine=google_maps&google_domain=google.com&hl=id&type=place',\n",
              "  'rating': 4.7,\n",
              "  'reviews': 67,\n",
              "  'unclaimed_listing': True,\n",
              "  'type': 'Masjid',\n",
              "  'address': 'WCVJ+2P7, Perumahan Graha Sapta Asri, Semarang, Pedalangan, Kec. Tembalang, Kota Semarang, Jawa Tengah 50268, Indonesia',\n",
              "  'thumbnail': 'https://lh5.googleusercontent.com/p/AF1QipMNDH4o2WxZrClwRqsVnvV-xgQqR-LVuh9Qz-RB=w199-h92-k-no'},\n",
              " {'position': 11,\n",
              "  'title': 'Masjid As - Salaam',\n",
              "  'place_id': 'ChIJu6nY4_CLcC4RgJx9xSZFLys',\n",
              "  'data_id': '0x2e708bf0e3d8a9bb:0x2b2f4526c57d9c80',\n",
              "  'data_cid': '3111781900360719488',\n",
              "  'reviews_link': 'https://serpapi.com/search.json?data_id=0x2e708bf0e3d8a9bb%3A0x2b2f4526c57d9c80&engine=google_maps_reviews&hl=id',\n",
              "  'photos_link': 'https://serpapi.com/search.json?data_id=0x2e708bf0e3d8a9bb%3A0x2b2f4526c57d9c80&engine=google_maps_photos&hl=id',\n",
              "  'gps_coordinates': {'latitude': -7.0438222999999995,\n",
              "   'longitude': 110.4186383},\n",
              "  'place_id_search': 'https://serpapi.com/search.json?data=%214m5%213m4%211s0x2e708bf0e3d8a9bb%3A0x2b2f4526c57d9c80%218m2%213d-7.0438222999999995%214d110.4186383&engine=google_maps&google_domain=google.com&hl=id&type=place',\n",
              "  'rating': 4.9,\n",
              "  'reviews': 97,\n",
              "  'unclaimed_listing': True,\n",
              "  'type': 'Masjid',\n",
              "  'address': 'XC49+FFC, Jl. Ngesrep Bar. III, Tinjomoyo, Kec. Banyumanik, Kota Semarang, Jawa Tengah 50262, Indonesia',\n",
              "  'open_state': 'Buka 24 jam',\n",
              "  'hours': 'Buka 24 jam',\n",
              "  'operating_hours': {'senin': 'Buka 24 jam',\n",
              "   'selasa': 'Buka 24 jam',\n",
              "   'rabu': 'Buka 24 jam',\n",
              "   'kamis': 'Buka 24 jam',\n",
              "   'jumat': 'Buka 24 jam',\n",
              "   'sabtu': 'Buka 24 jam',\n",
              "   'minggu': 'Buka 24 jam'},\n",
              "  'phone': '+62 24 7474022',\n",
              "  'thumbnail': 'https://lh5.googleusercontent.com/p/AF1QipOGvZJU16ke8Zfon4Fv61Hfd19RB4S0JH9NHOce=w124-h92-k-no'},\n",
              " {'position': 12,\n",
              "  'title': 'Masjid Al Fattah',\n",
              "  'place_id': 'ChIJD2LDRwiLcC4RPjhIyKHUNZo',\n",
              "  'data_id': '0x2e708b0847c3620f:0x9a35d4a1c848383e',\n",
              "  'data_cid': '11112021446921566270',\n",
              "  'reviews_link': 'https://serpapi.com/search.json?data_id=0x2e708b0847c3620f%3A0x9a35d4a1c848383e&engine=google_maps_reviews&hl=id',\n",
              "  'photos_link': 'https://serpapi.com/search.json?data_id=0x2e708b0847c3620f%3A0x9a35d4a1c848383e&engine=google_maps_photos&hl=id',\n",
              "  'gps_coordinates': {'latitude': -7.0160915, 'longitude': 110.39273019999999},\n",
              "  'place_id_search': 'https://serpapi.com/search.json?data=%214m5%213m4%211s0x2e708b0847c3620f%3A0x9a35d4a1c848383e%218m2%213d-7.0160915%214d110.39273019999999&engine=google_maps&google_domain=google.com&hl=id&type=place',\n",
              "  'rating': 4.8,\n",
              "  'reviews': 64,\n",
              "  'type': 'Masjid',\n",
              "  'address': 'Jl. Kendeng Bar. No.2, Sampangan, Kec. Gajahmungkur, Kota Semarang, Jawa Tengah 50232, Indonesia',\n",
              "  'open_state': 'Buka 24 jam',\n",
              "  'hours': 'Buka 24 jam',\n",
              "  'operating_hours': {'senin': 'Buka 24 jam',\n",
              "   'selasa': 'Buka 24 jam',\n",
              "   'rabu': 'Buka 24 jam',\n",
              "   'kamis': 'Buka 24 jam',\n",
              "   'jumat': 'Buka 24 jam',\n",
              "   'sabtu': 'Buka 24 jam',\n",
              "   'minggu': 'Buka 24 jam'},\n",
              "  'website': 'https://masjid-al-fattah.business.site/?utm_source=gmb&utm_medium=referral',\n",
              "  'thumbnail': 'https://lh5.googleusercontent.com/p/AF1QipNFLSi9qyhIm6oEsVE0GficbchIa2mm_7Ib1-L3=w163-h92-k-no'},\n",
              " {'position': 13,\n",
              "  'title': 'Masjid Al Farid',\n",
              "  'place_id': 'ChIJkz2gnQiLcC4RRJz5nw7VGwM',\n",
              "  'data_id': '0x2e708b089da03d93:0x31bd50e9ff99c44',\n",
              "  'data_cid': '224006865275165764',\n",
              "  'reviews_link': 'https://serpapi.com/search.json?data_id=0x2e708b089da03d93%3A0x31bd50e9ff99c44&engine=google_maps_reviews&hl=id',\n",
              "  'photos_link': 'https://serpapi.com/search.json?data_id=0x2e708b089da03d93%3A0x31bd50e9ff99c44&engine=google_maps_photos&hl=id',\n",
              "  'gps_coordinates': {'latitude': -7.0141408, 'longitude': 110.3905372},\n",
              "  'place_id_search': 'https://serpapi.com/search.json?data=%214m5%213m4%211s0x2e708b089da03d93%3A0x31bd50e9ff99c44%218m2%213d-7.0141408%214d110.3905372&engine=google_maps&google_domain=google.com&hl=id&type=place',\n",
              "  'rating': 4.8,\n",
              "  'reviews': 48,\n",
              "  'unclaimed_listing': True,\n",
              "  'type': 'Masjid',\n",
              "  'address': 'Jl. Menoreh II No.7, Sampangan, Kec. Gajahmungkur, Kota Semarang, Jawa Tengah 50232, Indonesia',\n",
              "  'thumbnail': 'https://lh5.googleusercontent.com/p/AF1QipPxPcsD62IvmwcU1mMVcEeykHOLs-EMhy8rfbPU=w163-h92-k-no'},\n",
              " {'position': 14,\n",
              "  'title': 'Masjid Istiqomah',\n",
              "  'place_id': 'ChIJNfNqw0aJcC4R8_5p0WXpo7I',\n",
              "  'data_id': '0x2e708946c36af335:0xb2a3e965d169fef3',\n",
              "  'data_cid': '12872388783469362931',\n",
              "  'reviews_link': 'https://serpapi.com/search.json?data_id=0x2e708946c36af335%3A0xb2a3e965d169fef3&engine=google_maps_reviews&hl=id',\n",
              "  'photos_link': 'https://serpapi.com/search.json?data_id=0x2e708946c36af335%3A0xb2a3e965d169fef3&engine=google_maps_photos&hl=id',\n",
              "  'gps_coordinates': {'latitude': -7.0744149, 'longitude': 110.4095416},\n",
              "  'place_id_search': 'https://serpapi.com/search.json?data=%214m5%213m4%211s0x2e708946c36af335%3A0xb2a3e965d169fef3%218m2%213d-7.0744149%214d110.4095416&engine=google_maps&google_domain=google.com&hl=id&type=place',\n",
              "  'rating': 4.7,\n",
              "  'reviews': 23,\n",
              "  'unclaimed_listing': True,\n",
              "  'type': 'Masjid',\n",
              "  'address': 'WCG5+6RM, Jl. Diponegoro Raya, Banyumanik, Kec. Banyumanik, Kota Semarang, Jawa Tengah 50264, Indonesia',\n",
              "  'thumbnail': 'https://lh5.googleusercontent.com/p/AF1QipOLTHfcPYRs84r42qFKsDwL3fr73jwrFMC5fhdI=w164-h92-k-no'},\n",
              " {'position': 15,\n",
              "  'title': 'Masjid At-Taqwa Petompon',\n",
              "  'place_id': 'ChIJS9WEzhSLcC4RGJSLehHDPZc',\n",
              "  'data_id': '0x2e708b14ce84d54b:0x973dc3117a8b9418',\n",
              "  'data_cid': '10898081153144296472',\n",
              "  'reviews_link': 'https://serpapi.com/search.json?data_id=0x2e708b14ce84d54b%3A0x973dc3117a8b9418&engine=google_maps_reviews&hl=id',\n",
              "  'photos_link': 'https://serpapi.com/search.json?data_id=0x2e708b14ce84d54b%3A0x973dc3117a8b9418&engine=google_maps_photos&hl=id',\n",
              "  'gps_coordinates': {'latitude': -7.0001074999999995,\n",
              "   'longitude': 110.4020676},\n",
              "  'place_id_search': 'https://serpapi.com/search.json?data=%214m5%213m4%211s0x2e708b14ce84d54b%3A0x973dc3117a8b9418%218m2%213d-7.0001074999999995%214d110.4020676&engine=google_maps&google_domain=google.com&hl=id&type=place',\n",
              "  'rating': 4.8,\n",
              "  'reviews': 1042,\n",
              "  'unclaimed_listing': True,\n",
              "  'type': 'Masjid',\n",
              "  'address': 'Jl. Kelud Raya No.47, Petompon, Kec. Gajahmungkur, Kota Semarang, Jawa Tengah 50237, Indonesia',\n",
              "  'open_state': 'Buka 24 jam',\n",
              "  'hours': 'Buka 24 jam',\n",
              "  'operating_hours': {'senin': 'Buka 24 jam',\n",
              "   'selasa': 'Buka 24 jam',\n",
              "   'rabu': 'Buka 24 jam',\n",
              "   'kamis': 'Buka 24 jam',\n",
              "   'jumat': 'Buka 24 jam',\n",
              "   'sabtu': 'Buka 24 jam',\n",
              "   'minggu': 'Buka 24 jam'},\n",
              "  'thumbnail': 'https://lh5.googleusercontent.com/p/AF1QipOXciD0MANIwcNvjiLvGJMOmQvnppC51y9KC5zy=w121-h92-k-no'},\n",
              " {'position': 16,\n",
              "  'title': 'Masjid Al Furqan',\n",
              "  'place_id': 'ChIJjZMM412LcC4RRixW1LPBSjQ',\n",
              "  'data_id': '0x2e708b5de30c938d:0x344ac1b3d4562c46',\n",
              "  'data_cid': '3768037016354565190',\n",
              "  'reviews_link': 'https://serpapi.com/search.json?data_id=0x2e708b5de30c938d%3A0x344ac1b3d4562c46&engine=google_maps_reviews&hl=id',\n",
              "  'photos_link': 'https://serpapi.com/search.json?data_id=0x2e708b5de30c938d%3A0x344ac1b3d4562c46&engine=google_maps_photos&hl=id',\n",
              "  'gps_coordinates': {'latitude': -6.9952679, 'longitude': 110.4215016},\n",
              "  'place_id_search': 'https://serpapi.com/search.json?data=%214m5%213m4%211s0x2e708b5de30c938d%3A0x344ac1b3d4562c46%218m2%213d-6.9952679%214d110.4215016&engine=google_maps&google_domain=google.com&hl=id&type=place',\n",
              "  'rating': 4.8,\n",
              "  'reviews': 396,\n",
              "  'unclaimed_listing': True,\n",
              "  'type': 'Masjid',\n",
              "  'address': '2C3C+VJR, Jl. Kusuma Wardani, Pleburan, Kec. Semarang Sel., Kota Semarang, Jawa Tengah 50241, Indonesia',\n",
              "  'open_state': 'Buka 24 jam',\n",
              "  'hours': 'Buka 24 jam',\n",
              "  'operating_hours': {'senin': 'Buka 24 jam',\n",
              "   'selasa': 'Buka 24 jam',\n",
              "   'rabu': 'Buka 24 jam',\n",
              "   'kamis': 'Buka 24 jam',\n",
              "   'jumat': 'Buka 24 jam',\n",
              "   'sabtu': 'Buka 24 jam',\n",
              "   'minggu': 'Buka 24 jam'},\n",
              "  'thumbnail': 'https://lh5.googleusercontent.com/p/AF1QipOYOieYzUdS7VZOXpPafz1nylfJXC9qrugHMFxb=w163-h92-k-no'},\n",
              " {'position': 17,\n",
              "  'title': 'Masjid Al - Amanah',\n",
              "  'place_id': 'ChIJlXr0v4iMcC4RFqcde5_yu7U',\n",
              "  'data_id': '0x2e708c88bff47a95:0xb5bbf29f7b1da716',\n",
              "  'data_cid': '13095327108289111830',\n",
              "  'reviews_link': 'https://serpapi.com/search.json?data_id=0x2e708c88bff47a95%3A0xb5bbf29f7b1da716&engine=google_maps_reviews&hl=id',\n",
              "  'photos_link': 'https://serpapi.com/search.json?data_id=0x2e708c88bff47a95%3A0xb5bbf29f7b1da716&engine=google_maps_photos&hl=id',\n",
              "  'gps_coordinates': {'latitude': -7.0111859, 'longitude': 110.4392678},\n",
              "  'place_id_search': 'https://serpapi.com/search.json?data=%214m5%213m4%211s0x2e708c88bff47a95%3A0xb5bbf29f7b1da716%218m2%213d-7.0111859%214d110.4392678&engine=google_maps&google_domain=google.com&hl=id&type=place',\n",
              "  'rating': 4.9,\n",
              "  'reviews': 34,\n",
              "  'unclaimed_listing': True,\n",
              "  'type': 'Masjid',\n",
              "  'address': 'Jl. Cinde Raya No.50, Jomblang, Kec. Candisari, Kota Semarang, Jawa Tengah 50256, Indonesia',\n",
              "  'open_state': 'Buka 24 jam',\n",
              "  'hours': 'Buka 24 jam',\n",
              "  'operating_hours': {'senin': 'Buka 24 jam',\n",
              "   'selasa': 'Buka 24 jam',\n",
              "   'rabu': 'Buka 24 jam',\n",
              "   'kamis': 'Buka 24 jam',\n",
              "   'jumat': 'Buka 24 jam',\n",
              "   'sabtu': 'Buka 24 jam',\n",
              "   'minggu': 'Buka 24 jam'},\n",
              "  'thumbnail': 'https://lh5.googleusercontent.com/p/AF1QipPLFlFSKrfYAnjGhFIoz51ozt6JZOHQAI27n_9t=w163-h92-k-no'},\n",
              " {'position': 18,\n",
              "  'title': 'Masjid Al Manar',\n",
              "  'place_id': 'ChIJkadgeaaOcC4RFCMZ8aT3jRM',\n",
              "  'data_id': '0x2e708ea67960a791:0x138df7a4f1192314',\n",
              "  'data_cid': '1409054546228486932',\n",
              "  'reviews_link': 'https://serpapi.com/search.json?data_id=0x2e708ea67960a791%3A0x138df7a4f1192314&engine=google_maps_reviews&hl=id',\n",
              "  'photos_link': 'https://serpapi.com/search.json?data_id=0x2e708ea67960a791%3A0x138df7a4f1192314&engine=google_maps_photos&hl=id',\n",
              "  'gps_coordinates': {'latitude': -7.060644, 'longitude': 110.4406388},\n",
              "  'place_id_search': 'https://serpapi.com/search.json?data=%214m5%213m4%211s0x2e708ea67960a791%3A0x138df7a4f1192314%218m2%213d-7.060644%214d110.4406388&engine=google_maps&google_domain=google.com&hl=id&type=place',\n",
              "  'rating': 4.8,\n",
              "  'reviews': 13,\n",
              "  'unclaimed_listing': True,\n",
              "  'type': 'Masjid',\n",
              "  'address': 'WCQR+P7R, Tembalang, Kec. Tembalang, Kota Semarang, Jawa Tengah 50275, Indonesia',\n",
              "  'open_state': 'Buka ⋅ Tutup pukul 21.00',\n",
              "  'hours': 'Buka ⋅ Tutup pukul 21.00',\n",
              "  'operating_hours': {'senin': '06.00–21.00',\n",
              "   'selasa': '06.00–21.00',\n",
              "   'rabu': '06.00–21.00',\n",
              "   'kamis': '06.00–21.00',\n",
              "   'jumat': '06.00–21.00',\n",
              "   'sabtu': '06.00–21.00',\n",
              "   'minggu': '06.00–21.00'},\n",
              "  'thumbnail': 'https://lh5.googleusercontent.com/p/AF1QipPtMkwQucEJrYeIT9Yjr6gmZk7qJYEka4UILMB4=w80-h106-k-no'},\n",
              " {'position': 19,\n",
              "  'title': 'Masjid AL Hikmah',\n",
              "  'place_id': 'ChIJ43dsYgSNcC4RHmbUvHrGD1E',\n",
              "  'data_id': '0x2e708d04626c77e3:0x510fc67abcd4661e',\n",
              "  'data_cid': '5841105472179168798',\n",
              "  'reviews_link': 'https://serpapi.com/search.json?data_id=0x2e708d04626c77e3%3A0x510fc67abcd4661e&engine=google_maps_reviews&hl=id',\n",
              "  'photos_link': 'https://serpapi.com/search.json?data_id=0x2e708d04626c77e3%3A0x510fc67abcd4661e&engine=google_maps_photos&hl=id',\n",
              "  'gps_coordinates': {'latitude': -7.005810899999999,\n",
              "   'longitude': 110.4808327},\n",
              "  'place_id_search': 'https://serpapi.com/search.json?data=%214m5%213m4%211s0x2e708d04626c77e3%3A0x510fc67abcd4661e%218m2%213d-7.005810899999999%214d110.4808327&engine=google_maps&google_domain=google.com&hl=id&type=place',\n",
              "  'rating': 4.8,\n",
              "  'reviews': 58,\n",
              "  'unclaimed_listing': True,\n",
              "  'type': 'Masjid',\n",
              "  'address': 'Jl. Arya Mukti Raya No.648, Pedurungan Lor, Kec. Pedurungan, Kota Semarang, Jawa Tengah 50192, Indonesia',\n",
              "  'thumbnail': 'https://lh5.googleusercontent.com/p/AF1QipPdicb7YIcHHrPm61L2bgGTWEOn_VbkOezBFeU_=w92-h92-k-no'},\n",
              " {'position': 20,\n",
              "  'title': 'Masjid Baitul Atiq',\n",
              "  'place_id': 'ChIJgzvxPzeLcC4Rp5KTsO0MxOY',\n",
              "  'data_id': '0x2e708b373ff13b83:0xe6c40cedb09392a7',\n",
              "  'data_cid': '16628429939167957671',\n",
              "  'reviews_link': 'https://serpapi.com/search.json?data_id=0x2e708b373ff13b83%3A0xe6c40cedb09392a7&engine=google_maps_reviews&hl=id',\n",
              "  'photos_link': 'https://serpapi.com/search.json?data_id=0x2e708b373ff13b83%3A0xe6c40cedb09392a7&engine=google_maps_photos&hl=id',\n",
              "  'gps_coordinates': {'latitude': -6.9820287, 'longitude': 110.39702299999999},\n",
              "  'place_id_search': 'https://serpapi.com/search.json?data=%214m5%213m4%211s0x2e708b373ff13b83%3A0xe6c40cedb09392a7%218m2%213d-6.9820287%214d110.39702299999999&engine=google_maps&google_domain=google.com&hl=id&type=place',\n",
              "  'rating': 4.7,\n",
              "  'reviews': 174,\n",
              "  'unclaimed_listing': True,\n",
              "  'type': 'Masjid',\n",
              "  'address': 'Jl. Puspanjolo Barat Raya Blok A No.1, Cabean, Kec. Semarang Barat, Kota Semarang, Jawa Tengah 50141, Indonesia',\n",
              "  'open_state': 'Buka 24 jam',\n",
              "  'hours': 'Buka 24 jam',\n",
              "  'operating_hours': {'senin': 'Buka 24 jam',\n",
              "   'selasa': 'Buka 24 jam',\n",
              "   'rabu': 'Buka 24 jam',\n",
              "   'kamis': 'Buka 24 jam',\n",
              "   'jumat': 'Buka 24 jam',\n",
              "   'sabtu': 'Buka 24 jam',\n",
              "   'minggu': 'Buka 24 jam'},\n",
              "  'thumbnail': 'https://lh5.googleusercontent.com/p/AF1QipNrln25AkoDxMYuFOVhzum8NrSMxBwYxzwnOzSF=w184-h92-k-no'}]"
            ]
          },
          "metadata": {},
          "execution_count": 21
        }
      ]
    },
    {
      "cell_type": "code",
      "source": [
        "#data 1\n",
        "from serpapi import GoogleSearch\n",
        "\n",
        "params = {\n",
        "  \"engine\": \"google_maps_reviews\",\n",
        "  \"data_id\": \"0x2e708b378534b7a9:0x28d249abb06a5620\",\n",
        "  \"hl\": \"id\",\n",
        "  \"api_key\": \"004fa1f7c6bc13a724ed6c840b59ec7492978004fd579689c87d1bd814b513f3\"\n",
        "}\n",
        "\n",
        "search = GoogleSearch(params)\n",
        "results = search.get_dict()\n",
        "reviews = results[\"reviews\"][1][\"snippet\"]"
      ],
      "metadata": {
        "colab": {
          "base_uri": "https://localhost:8080/",
          "height": 0
        },
        "id": "ROOpF_ds3BhA",
        "outputId": "d055d7be-529c-4587-d60c-d666211acb2a"
      },
      "execution_count": 22,
      "outputs": [
        {
          "output_type": "stream",
          "name": "stdout",
          "text": [
            "https://serpapi.com/search\n"
          ]
        }
      ]
    },
    {
      "cell_type": "code",
      "source": [
        "for i in range(10):\n",
        "  rating = results [\"reviews\"][i][\"rating\"]\n",
        "  print(rating)\n",
        "  reviews = results [\"reviews\"][i][\"snippet\"]\n",
        "  print(reviews)"
      ],
      "metadata": {
        "colab": {
          "base_uri": "https://localhost:8080/",
          "height": 0
        },
        "id": "vzBlyxJS4Zth",
        "outputId": "2ee6722e-78d3-4283-91cb-e45c0324c694"
      },
      "execution_count": 24,
      "outputs": [
        {
          "output_type": "stream",
          "name": "stdout",
          "text": [
            "4.0\n",
            "Masjidnya bagus setelah direnovasi.Kenapa harus ditambah tenda yg di depan masjid? Malah mengganggunya lalu lintas karena posisi masjid yg pas di pertigaan.\n",
            "5.0\n",
            "Ruangan ber AC. Nyaman\n",
            "5.0\n",
            "Sholat\n",
            "5.0\n",
            "Keren banget\n",
            "5.0\n",
            "(Diterjemahkan oleh Google) Subhanallah ... Masjid yang agung. Sedang dibangun. Semoga cepat (Asli) Subhanallah... Masjid yang besar. Sedang dalam proses pembangunan. Semoga cepat selesai\n",
            "5.0\n",
            "(Diterjemahkan oleh Google) Banyak anak kecil. Inilah penerus generasi kita di masa depan yang akan mensejahterakan Masjid. Jangan bangga jika masjid dibangun megah tapi tidak ada anak kecil di dalamnya. Tapi banggalah jika anak kecil mau datang ke masjid. (Asli) Ramai anak kecil. Inilah penerus generasi kita dimasa depan yang akan memakmurkan Masjid. Janganlah bangga jika Masjid dibangun megah namun tidak ada anak-anak kecil didalamnya. Namun berbanggalah jika anak-anak kecil mau datang ke masjid.\n",
            "5.0\n",
            "(Diterjemahkan oleh Google) Masjid itu keren, ademmmm (Asli) Masjidnya kerennnn, ademmmm\n",
            "5.0\n",
            "\n",
            "5.0\n",
            "\n",
            "5.0\n",
            "\n"
          ]
        }
      ]
    },
    {
      "cell_type": "code",
      "source": [
        "#data 2\n",
        "from serpapi import GoogleSearch\n",
        "\n",
        "params = {\n",
        "  \"engine\": \"google_maps_reviews\",\n",
        "  \"data_id\": \"0x2e708cb76c98241f:0x6afb73af24d41bf9\",\n",
        "  \"hl\": \"id\",\n",
        "  \"api_key\": \"004fa1f7c6bc13a724ed6c840b59ec7492978004fd579689c87d1bd814b513f3\"\n",
        "}\n",
        "\n",
        "search = GoogleSearch(params)\n",
        "results = search.get_dict()\n",
        "reviews = results[\"reviews\"][1][\"snippet\"]"
      ],
      "metadata": {
        "colab": {
          "base_uri": "https://localhost:8080/",
          "height": 0
        },
        "id": "rAikLi7F5SF5",
        "outputId": "4b8a535b-664e-4b62-f6a8-959e3aa34f9f"
      },
      "execution_count": 25,
      "outputs": [
        {
          "output_type": "stream",
          "name": "stdout",
          "text": [
            "https://serpapi.com/search\n"
          ]
        }
      ]
    },
    {
      "cell_type": "code",
      "source": [
        "for i in range(10):\n",
        "  rating = results [\"reviews\"][i][\"rating\"]\n",
        "  print(rating)\n",
        "  reviews = results [\"reviews\"][i][\"snippet\"]\n",
        "  print(reviews)"
      ],
      "metadata": {
        "colab": {
          "base_uri": "https://localhost:8080/",
          "height": 0
        },
        "id": "PmZDILyS5gIX",
        "outputId": "6d916012-4e81-4ca8-f9f3-1721c79e9898"
      },
      "execution_count": 27,
      "outputs": [
        {
          "output_type": "stream",
          "name": "stdout",
          "text": [
            "4.0\n",
            "Pertama kali ke sini langsung terpukau dengan luas dan besarnya masjid dan lokasinya. Area parkir yang sangat luas, bahkan bisa menggelar tikar untuk makan bersama keluarga, hehehe... Masjidnya juga sangat luas dan besar, dan serambinya sangat luas. Serta di serambi ada payung besar seperti yang ada di Masjidil Haram. Mungkin karena luasnya, area masjid juga dimanfaatkan untuk latihan ekstra kurikuler sekolah, seperti paskibra. Ada juga warung-warung yang menjajakan makanan dan minuman di area parkir. Bahkan ada gedung pertemuan yang besar juga. Cuma yang jadi perhatian saya adalah kondisi yang lumayan panas atau sumuk di area utama sholatnya. Saat itu kipas angin tidak menyala juga. Tetapi ketika kita menepi di dekat jendela atau sela-sela tembok akan terasa angin yang berhembus. Di masjid agung kita juga bisa menaiki menara yang setinggi 19 lantai, di mana di lantai ke 3 ada museumnya. Di puncak atau lantai 19, kita bisa melihat pemandangan kota Semarang dari atas. Untuk naik ke atas kita hanya perlu membayar infaq pemeliharaan sebesar Rp10.000,- per orang. Dan sangatlah bagus pemandangan dari atas, kita bisa santai sejenak duduk di atas sambil terkena hembusan angin di ketinggian. Di atas disediakan juga teropong, cukup masukkan koin uang Rp1.000,- maka teropong bisa digunakan dengan waktu terbatas. Cocoklah untuk mengintip orang 🤭hehehe....\n",
            "5.0\n",
            "Megah bangeeeeeeet mesjidnya. Cakep bangeeeet. Tapi kesini pas waktu dzuhur SUBHANALLAH PANASNYA PUOLLLLLL BANGET GITU LOH. SAMPE MENUSUK KE TULANG TULANG PANASNYA TUH MASYA ALLAH 😭👍🏻 pengen foto bentar aja juga gak kuat karena saking panasnya. Sampe mau jalan di lantainya aja ngga kuat kek lagi direbus ini kaki 😭🤣 tapiiii pas masuk ke dalem untuk solat dzuhur. Mesjidnya adem bangeeeet padahal gak ada AC nya. Bisa gitu yaa 😁 ih kalo kesininya sore mah enak kali yaa. Ngga terlalu panas banget gitu. Jadi bisa foto-foto yang hasilnya lebih cakep. Kmaren mah panas banget. Sampe rasanya pengen minum es kelapa muda aja ya Allah saking langsung dehidrasinya wkwkwk. Solat disini cuma bayar parkir aja. Parkirnya juga luas banget. Mesjidnya bener-bener secakep itu ✨ didalemnya ada al-qur'an yang guedeeeeee banget. Terus kayanya tiap hari ada yang ceramah gitu yaa. Terus kaya ada yang liputnya gitu. Mungkin tayang di TV swasta daerah gitu kali yaa. Ngga ngerti ceramah apa soalnya pake bahasa Jawa full hehehe.\n",
            "5.0\n",
            "Masjid Agung Jawa Tengah adalah yang terbesar dan termegah serta merupakan ikon dan kebanggaan masyarakat provinsi tersebut. Masjid ini juga merupakan salah satu masjid terbesar di Indonesia. Masjid megah ini diresmikan oleh Presiden Republik Indonesia periode 2004-2009, Susilo Bambang Yudhoyono dengan menandatangani prasasti yang terbuat dari batu alam setinggi 3,2 meter dan berat 7,8 ton. Batu alam ini didatangkan dari lereng Gunung Merapi. Arsitektur masjid memadukan tiga gaya. Arsitektur Jawa diwakilkan pada bagian badan atap masjid yang berbentuk limas serta dasar tiang masjid bermotif batik seperti model tumpal, untu walang, kawung, dan parang-parangan. Arsitektur Arab dapat dilihat dari kubah puncak masjid dan dinding masjid yang dihiasi kaligrafi. Arsitektur Roma-Yunani terlihat pada desain interior dan pewarnaan sudut- sudut bangunan. Salah satu ciri khas masjid ini adalah enam buah payung hidrolik raksasa yang berada di teras masjid. Payung yang dapat membuka dan menutup secara otomatis ini mengadopsi model yang terdapat di Masjid Nabawi, Madinah, Arab Saudi. Dengan tinggi masing-masing 20 meter dan bentangan hingga 14 meter, payung ini berfungsi sebagai atap kala jumlah jamaah tengah meluap. Keistimewaan lainnya adalah menara Asma’ul Husna setinggi 99 meter. Menara yang disebut dengan Al Husna Tower ini terletak di pojok barat daya masjid dan dapat dilihat dari radius 5 kilometer. Keberadaan menara tersebut merupakan simbol kebesaran dan kemahakuasaan Allah. Menara pun berfungsi sebagai destinasi wisata religi. Selain udara yang segar, teropong di menara memanjakan pengunjung sehingga mereka dapat menikmati pemandangan indah kota Semarang dan kapal-kapal di pelabuhan Tanjung Emas. Di plaza masjid terdapat banner bertuliskan Gerbang Al-Qanathir yang berarti megah dan bernilai. Di sini terdapat 25 tiang Al-Qanathir sebagai simbol 25 rasul yang membentuk satu lengkungan melingkari plaza. Melangkah ke bagian dalam, akan tampak pintu bergaya khas Jawa. Setelah melewati pintu, terlihat ruang yang sangat luas dan megah didominasi warna cokelat muda pada lantai dan aksen kayu berwarna hijau pada atap bagian dalam. Mihrab masjid terlihat anggun dengan pigura yang terbuat dari ukiran kayu. Bagian mimbar berasal dari dinding yang sengaja dibuka dengan memberikan ruang di dalamnya untuk tempat khatib berkhotbah. Lampu gantung berbentuk lingkaran yang cenderung minimalis menimbulkan kesan keanggunan dan kebersahajaan.\n",
            "5.0\n",
            "Ini adalah kali pertama saya masuk masjid agung jawa tengah, masuk gerbang kita akan di kenakan karcis, namun saya naik kendaraan motor dan pagi jam 4 itu tidak dipungut biaya, niat saya ke masjid tersebut ingin sholat berjamaah, alhamdulillat dapat menunaikan sholat berjaam, dilihat sangat luat untuk lahan parkir motor maupun mobil ada 5 posisi 1 bes 3 bus/mobil 1 nya motor. Setelah sholat saya berjalan mengelilingi masjid, tempat wudunya nyaman dan luas, dan biasanya banyak para pengunjung yang menginap karna ingin sekalian berjiarah ke makan. Setelah berkeliling masjid saya keluar menaiki motor lalu berkeliling dan di dalam ada warung yang jualan di sebelah kiri bangunan masjid yang di pisahkan oleh lahan parkir. Pindah ke posisi depannya atau belakangnya di luar lingkungan area masjid ada jagung, sebelahkanan ada lahan yang kumuh, yang kumuh itu di luar area masjid aga depannya ada kakah kecil dan itu bagus , semoga kita dan saya dapat menunaikan rukun islam yang ke 5, naik haji bila mampu aamiin. Sekian terima kasih atas perhatiannya Babay..\n",
            "5.0\n",
            "Pertama kalinya aku masuk ke Masjid yang Masyaallah Tabarakallah Luas sekali. Parkiran mobil, motor ya pun luas, ada toko kecil-kecilan juga disana. Aku ke sana abis sholat Dzuhur, cuaca hari itu juga cerah. Klo mau foto di sekitar masjid diusahakan memakai kaos kaki. Lantai masjid sangat panas soalnya. Klo memakai kaos kaki kan jadinya itu kaki tidak terlalu panas. Struktur bangunan sangat mega, masjid ya bertingkat, dan diluar masjid terdapat payung raksasa yang bisa buka tutup. Ada semacam mercusuar juga,kalian bisa melihat pemandangan laut & kota Semarang di atas mercusuar tersebut. Diluar masjid juga ada sebuah bangunan pilar yang sangat tinggi dan bertuliskan huruf Arab, seperti semacam bangunan kuno tapi modern.\n",
            "4.0\n",
            "Masjid dengan payung raksasa yang mengingatkan kita pada Masjid Nabawi. Enam payung hidrolik raksasa yang dapat terbuka dan tertutup secara otomatis. Masjid ini termasuk masjid termegah di Indonesia. Masjid Agung Jawa Tengah dibangun pada tahun 2001 dan selesai pada tahun 2006. Payung raksasa akan dibuka pada saat Sholat Jumat, Idul Fitri atau Idul Adha dengan catatan bila angin tidak sedang bertiup kencang. Masjid ini bisa menampung 15,000 jamaah dan di halaman luarnya bisa menampung 10,000 jamaah. Pada saat saya kesana, kolam di halaman depan masjid sedikit agak kotor dan sepertinya ada air mancurnya, tp pada saat itu tdk menyala. Untuk masuk ke ruang utama masjid, harus naik melalui tangga2 dr lantai bawah krn pintu depan/pintu utama masjid tidak dibuka. Banyak toko2 souvenir di sekitar masjid juga terdapat klinik kesehatan. Paling bagus pemandangan langit menjelang maghrib. Katanya kita bisa naik ke menara atas masjid, tp saya blm mencobanya ketika saya berkunjung kesana bbrp hari lalu.\n",
            "5.0\n",
            "Masjid Agung merupakan landscape iconic di Jawa Tengah. Tempatnya sangat luas, ada pilar2 besar dan payung seperti di Masjid Nabawi. Sayangnya payung dibuka ketika waktu2 tertentu (seperti saat sholat jumat, sabtu, minggu dan hari2 besar tertentu). Saat kesitu (sekitar jam 10an) masjid sepi dan tutup, mau nunggu adzan dan sekalian sholat Dluhur tapi adek sudah rewel, jadinya kita langsung pulang. Next time, InsyaAllah ketika weekend pengen kesini lagi mau nunjukin payungnya yang terbuka ke adek. Dari pintu masuk ke masjid jalan kaki lumayan jauh.\n",
            "4.0\n",
            "Masjidnya luas dan besar. Tempat parkir sangat luas. Toilet dan tempat wudhu bersih dan banyak. Ada jg payung seperti dimasjid nabawi yg dibuka cuma pada saat sholat idul fitri, idul adha dan jum'atan. Ada jg menara yg bisa naik sampai keatas. Bisa melihat pemandangan kota semarang. Kalo mau berkunjung atau foto foto alangkah baiknya pada saat pagi hari atau sore hari, karena bila siang hari lantai depan masjid pas ada payung nya sangat panas sekali. Cuma sekarang sepertinya kondisinya kurang terawat baik, karena banyak tegel dan keramik yg lepas dan dibiarkan seperti tidak terurus. Selamat berkunjung.\n",
            "5.0\n",
            "Tempatnya luas, masjid luas, halaman luas, parkir luas, toilet banyak dan bersih, banyak dikunjungi oleh wisata religi, warga sekitar olah raga dan aktivitas lainnya. Banyak penjual suvenir maupun kuliner. Ada gedung perpustakaan di pojok utara, ada tempat therapi seperti : pijat, bekam dan ada toko yang jualan obat-obatan herbal serta oleh-oleh haji, ada beberapa gedung serba guna yang disewakan untuk berbagai acara, seperti : pernikahan, khitanan, reuni ataupun acara besar lainnya. Yang ingin menginap juga disediakan persewaan hotel. Jika pengunjung ingin melihat sekitar kota Semarang , bisa melihat dari menara dengan tiket yang terjangkau.\n",
            "4.0\n",
            "Assalamualaikum reviewer gabut ijin mengulas kunjungan saya bersama keluarga saat melaksanakan sholat ashar di Masjid Agung Jawa Tengah (MAJT) Masjid Agung Jawa Tengah berada di daerah Jl. Gajah Semarang. Lokasinya berada di tempat yang strategis serta lalu lintas yang sangat ramai Masuk ke Area Masjid kami mendakat karcis parkir dengan besaran infaq 4000 rupiah. Parkiran sangat luas mungkin bisa sampai 500 kendaraan roda 4 bisa parkir disini Masjid Agung Jawa Tengah bukan hanya untuk tempat beribadah, ada beberapa tempat yang biasa digunakan untuk acara resepsi pernikahan. Lantai atas dimana payung² besar yang layaknya Masjid Nabawi di Makkah, bisa diakses secara bebas, jangan lupa untuk melepas alas kaki selepas batas suci Masjid Agung Jawa Tengah untuk area wudhu dan kamar mandi sangat bagus dan luas. Untuk area dalam Masjid sangat sejuk dan nyaman, ubin masjid adalah tempat paling nyaman 😁 Area sholat untuk jamaah Pria sangat luas, terdapat Al-Quran besar serta Al-Quran yang boleh dibaca oleh jamaah Masjid Agung Jawa Tengah, dengan kemegahannya tersebut sangat disayangkan terlihat kurang terawat\n"
          ]
        }
      ]
    },
    {
      "cell_type": "code",
      "source": [
        "#data 3\n",
        "from serpapi import GoogleSearch\n",
        "\n",
        "params = {\n",
        "  \"engine\": \"google_maps_reviews\",\n",
        "  \"data_id\": \"0x2e708cb8d85035dd:0x3ccb9f8dbeabecea\",\n",
        "  \"hl\": \"id\",\n",
        "  \"api_key\": \"004fa1f7c6bc13a724ed6c840b59ec7492978004fd579689c87d1bd814b513f3\"\n",
        "}\n",
        "\n",
        "search = GoogleSearch(params)\n",
        "results = search.get_dict()\n",
        "reviews = results[\"reviews\"][1][\"snippet\"]"
      ],
      "metadata": {
        "colab": {
          "base_uri": "https://localhost:8080/",
          "height": 0
        },
        "id": "lqfMQAf85le3",
        "outputId": "543d7b0e-db74-4f0c-d656-be650b9c5e51"
      },
      "execution_count": 28,
      "outputs": [
        {
          "output_type": "stream",
          "name": "stdout",
          "text": [
            "https://serpapi.com/search\n"
          ]
        }
      ]
    },
    {
      "cell_type": "code",
      "source": [
        "for i in range(10):\n",
        "  rating = results [\"reviews\"][i][\"rating\"]\n",
        "  print(rating)\n",
        "  reviews = results [\"reviews\"][i][\"snippet\"]\n",
        "  print(reviews)"
      ],
      "metadata": {
        "colab": {
          "base_uri": "https://localhost:8080/",
          "height": 0
        },
        "id": "t5xMsWzk573W",
        "outputId": "97f63eb9-2313-4ea9-ad56-96cbeecc492e"
      },
      "execution_count": 30,
      "outputs": [
        {
          "output_type": "stream",
          "name": "stdout",
          "text": [
            "5.0\n",
            "Semoga dimakmurkan masjid dan jamaahnya, aamiin..\n",
            "4.0\n",
            "Bagus\n",
            "4.0\n",
            "bersih nyaman untuk beribadah\n",
            "5.0\n",
            "Masjidnya bagus\n",
            "5.0\n",
            "Ibadah nyaman amal berkah\n",
            "5.0\n",
            "Masjid megah dalam perkampungan\n",
            "5.0\n",
            "Maha besar Allah\n",
            "5.0\n",
            "Masjid penuh histori\n",
            "5.0\n",
            "Sejuk...\n",
            "5.0\n",
            "Mari cintai masjid\n"
          ]
        }
      ]
    },
    {
      "cell_type": "code",
      "source": [
        "#data 4\n",
        "from serpapi import GoogleSearch\n",
        "\n",
        "params = {\n",
        "  \"engine\": \"google_maps_reviews\",\n",
        "  \"data_id\": \"0x2e708c009ef2ce63:0x6df4f2ae27e6e1d6\",\n",
        "  \"hl\": \"id\",\n",
        "  \"api_key\": \"004fa1f7c6bc13a724ed6c840b59ec7492978004fd579689c87d1bd814b513f3\"\n",
        "}\n",
        "\n",
        "search = GoogleSearch(params)\n",
        "results = search.get_dict()\n",
        "reviews = results[\"reviews\"][1][\"snippet\"]"
      ],
      "metadata": {
        "colab": {
          "base_uri": "https://localhost:8080/",
          "height": 0
        },
        "id": "x85khz1i6CPW",
        "outputId": "df620442-61f1-4542-f34e-78196a0c7c00"
      },
      "execution_count": 31,
      "outputs": [
        {
          "output_type": "stream",
          "name": "stdout",
          "text": [
            "https://serpapi.com/search\n"
          ]
        }
      ]
    },
    {
      "cell_type": "code",
      "source": [
        "for i in range(10):\n",
        "  rating = results [\"reviews\"][i][\"rating\"]\n",
        "  print(rating)\n",
        "  reviews = results [\"reviews\"][i][\"snippet\"]\n",
        "  print(reviews)"
      ],
      "metadata": {
        "colab": {
          "base_uri": "https://localhost:8080/",
          "height": 0
        },
        "id": "FCz_7htM6Oky",
        "outputId": "83069b76-944f-4a0a-a4d8-18bcc697dfb1"
      },
      "execution_count": 33,
      "outputs": [
        {
          "output_type": "stream",
          "name": "stdout",
          "text": [
            "5.0\n",
            "Sedang dalam proses renovasi, semoga cepat selesai. Ornamen hias di mihrab imam bagus, terbuat dari ukiran kayu. Ada hiasan lukisan langit di bagian dalam kubah masjid. Bangunannya agak masuk sedikit ke dalam gang, tidak terlalu kelihatan dari jalan raya. Suasananya sejuk adem.\n",
            "4.0\n",
            "Letak tersembunyi di dalam gang.. Parkir sempit. Ada 2 lantai yg cukup banyak menampung jamaah.. Ada pula ponpes mahasiswa-mahasiswi di tempat ini. Lokasi pondok di depan masjid yg berbatasan langsung dgn jalan.. Mihrab dihiasi ukiran kayu sampai ke lantai 2.\n",
            "5.0\n",
            "tempat yang sangat nyaman untuk beribadah, tempat nya baru namun unuk parkir cukup sulit. ada pondok pesantren juga di tempat ini.\n",
            "5.0\n",
            "Lokasi di dalam Jl. Sumurboto 2 agak masuk gang sedikit. Masjid bersatu dengan kompleks pesantren.\n",
            "5.0\n",
            "bagus dan rapi semua patuh protokol kesehatan seadanya seperti tahun kemarin ☺️\n",
            "4.0\n",
            "Masjdi dekat Undip agak masuk kedalam dekat dengan toko baju terkenal lupa namanya\n",
            "5.0\n",
            "Agak ngga keliatan si kalo diliat dr luar deket pesantren pokoknya\n",
            "4.0\n",
            "Air wudhu suka habis saat sholat Jumat\n",
            "5.0\n",
            "Jamaah lmayang bnyak.. dan tmpanya nyaman skli\n",
            "5.0\n",
            "Masjid nya Bagus, bersih\n"
          ]
        }
      ]
    },
    {
      "cell_type": "code",
      "source": [
        "#data 5\n",
        "from serpapi import GoogleSearch\n",
        "\n",
        "params = {\n",
        "  \"engine\": \"google_maps_reviews\",\n",
        "  \"data_id\": \"0x2e708b37ba7e27bd:0xbeadb56a30f68356\",\n",
        "  \"hl\": \"id\",\n",
        "  \"api_key\": \"004fa1f7c6bc13a724ed6c840b59ec7492978004fd579689c87d1bd814b513f3\"\n",
        "}\n",
        "\n",
        "search = GoogleSearch(params)\n",
        "results = search.get_dict()\n",
        "reviews = results[\"reviews\"][1][\"snippet\"]"
      ],
      "metadata": {
        "colab": {
          "base_uri": "https://localhost:8080/",
          "height": 0
        },
        "id": "_oFHpnNZ6VBp",
        "outputId": "bf8a0313-97be-461d-e539-f23530a9c5f2"
      },
      "execution_count": 34,
      "outputs": [
        {
          "output_type": "stream",
          "name": "stdout",
          "text": [
            "https://serpapi.com/search\n"
          ]
        }
      ]
    },
    {
      "cell_type": "code",
      "source": [
        "for i in range(10):\n",
        "  rating = results [\"reviews\"][i][\"rating\"]\n",
        "  print(rating)\n",
        "  reviews = results [\"reviews\"][i][\"snippet\"]\n",
        "  print(reviews)"
      ],
      "metadata": {
        "colab": {
          "base_uri": "https://localhost:8080/",
          "height": 0
        },
        "id": "5qCoVpck66ZI",
        "outputId": "04383b92-6fe5-4e56-d027-99db0ae335ac"
      },
      "execution_count": 36,
      "outputs": [
        {
          "output_type": "stream",
          "name": "stdout",
          "text": [
            "5.0\n",
            "Semoga semakin makmur masjid nya, aamiin\n",
            "5.0\n",
            "Subhanallah... Masjid yang nyaman untuk beribadah. Letaknya tersembunyi, tapi rame dikunjungi.\n",
            "5.0\n",
            "Bersih, nyaman\n",
            "5.0\n",
            "Tempat ibadah umat muslim. Kalau bulan puasa, sholat taraweh disini 8 rakaat, santai tdk terburu buru, habis itu kultum dan dilanjutkan sholat witir\n",
            "5.0\n",
            "Sering menunggu waktu istirahat, jam makan siang. Tiap butuh istirahat setelah keliling bekerja\n",
            "5.0\n",
            "Ayooo, memakmurkan Masjid dengan sholat berjama'ah tepat waktu\n",
            "5.0\n",
            "peringatan Nuzulul Quran...\n",
            "3.0\n",
            "Ruanganya tidak terlalu besar\n",
            "5.0\n",
            "Tenang...\n",
            "5.0\n",
            "nyaman, bagus, keren\n"
          ]
        }
      ]
    },
    {
      "cell_type": "code",
      "source": [
        "#data 6\n",
        "from serpapi import GoogleSearch\n",
        "\n",
        "params = {\n",
        "  \"engine\": \"google_maps_reviews\",\n",
        "  \"data_id\": \"0x2e70f4ceb4e85625:0x248de35a4e40aff2\",\n",
        "  \"hl\": \"id\",\n",
        "  \"api_key\": \"004fa1f7c6bc13a724ed6c840b59ec7492978004fd579689c87d1bd814b513f3\"\n",
        "}\n",
        "\n",
        "search = GoogleSearch(params)\n",
        "results = search.get_dict()\n",
        "reviews = results[\"reviews\"][1][\"snippet\"]"
      ],
      "metadata": {
        "colab": {
          "base_uri": "https://localhost:8080/",
          "height": 0
        },
        "id": "QjwR7ZH77LPw",
        "outputId": "e62e4f9b-2bd4-4691-a921-65b9047a9bba"
      },
      "execution_count": 37,
      "outputs": [
        {
          "output_type": "stream",
          "name": "stdout",
          "text": [
            "https://serpapi.com/search\n"
          ]
        }
      ]
    },
    {
      "cell_type": "code",
      "source": [
        "for i in range(10):\n",
        "  rating = results [\"reviews\"][i][\"rating\"]\n",
        "  print(rating)\n",
        "  reviews = results [\"reviews\"][i][\"snippet\"]\n",
        "  print(reviews)"
      ],
      "metadata": {
        "colab": {
          "base_uri": "https://localhost:8080/",
          "height": 0
        },
        "id": "vBSOihrt7ZMZ",
        "outputId": "d460671d-25e2-4ebf-e075-083c35b2324d"
      },
      "execution_count": 39,
      "outputs": [
        {
          "output_type": "stream",
          "name": "stdout",
          "text": [
            "5.0\n",
            "Nyaman untuk sholat. Pastikan barang dan motor anda aman yaa kalau parkir disini. Jangan ada barang berharga yang tertinggal di motor.\n",
            "5.0\n",
            "Alhamdilillah, wasyukurillah masjid ini menjalankan dakwah pelayanan kepada umat islam, bebas asal sopan, mau tidur, makan didalam madjid juga boleh, mengusung dan mencontoh masjid nabawi, dibuka 24 jam.\n",
            "5.0\n",
            "Masjid yang berada di dalam perumahan, untuk parkiran luas, dapat menampung cukup banyak jamaah\n",
            "5.0\n",
            "AdemmmTenangParkir Luas\n",
            "1.0\n",
            "Satu satunya masjid yg kalo saya mau ke toilet buru buru di kunci pintu besinya sama petugas kebersihanya,sy juga ga faham tuh alasanya apa tdk tau kalo yg lain pas pengin buang air kecil atao apa ke wc mungkin ada yg sama ngalami kaya saya juga.\n",
            "5.0\n",
            "Mesjid nya adem\n",
            "5.0\n",
            "Masjid yg berada di ujung selatan perumahan Semarang Indah ini, sangat memberi sarana tepat buat Ibadah sholat dan para pelintas jalan\n",
            "5.0\n",
            "Masjid dengan parkir luas,adem dan nyaman. Area dekat dengan pujasera Semarang indah. Jadi beribadah sekalian wisata kuliner\n",
            "4.0\n",
            "Tempat tenang , nyaman, bisa khusuk beribadah.\n",
            "3.0\n",
            "bersih, parkir luas, adem kalau siang, banyak warug disekitar masjid\n"
          ]
        }
      ]
    },
    {
      "cell_type": "code",
      "source": [
        "#data 7\n",
        "from serpapi import GoogleSearch\n",
        "\n",
        "params = {\n",
        "  \"engine\": \"google_maps_reviews\",\n",
        "  \"data_id\": \"0x2e708b7c671989e1:0x65755d6b0ec90b4d\",\n",
        "  \"hl\": \"id\",\n",
        "  \"api_key\": \"004fa1f7c6bc13a724ed6c840b59ec7492978004fd579689c87d1bd814b513f3\"\n",
        "}\n",
        "\n",
        "search = GoogleSearch(params)\n",
        "results = search.get_dict()\n",
        "reviews = results[\"reviews\"][1][\"snippet\"]"
      ],
      "metadata": {
        "colab": {
          "base_uri": "https://localhost:8080/",
          "height": 0
        },
        "id": "K9tdTgir7chw",
        "outputId": "a991333e-42b9-4f0f-e410-253f837a1908"
      },
      "execution_count": 40,
      "outputs": [
        {
          "output_type": "stream",
          "name": "stdout",
          "text": [
            "https://serpapi.com/search\n"
          ]
        }
      ]
    },
    {
      "cell_type": "code",
      "source": [
        "for i in range(10):\n",
        "  rating = results [\"reviews\"][i][\"rating\"]\n",
        "  print(rating)\n",
        "  reviews = results [\"reviews\"][i][\"snippet\"]\n",
        "  print(reviews)"
      ],
      "metadata": {
        "colab": {
          "base_uri": "https://localhost:8080/",
          "height": 0
        },
        "id": "mdz0DAxM7oy_",
        "outputId": "220d3646-a33e-4fa8-edea-9f87c650a704"
      },
      "execution_count": 42,
      "outputs": [
        {
          "output_type": "stream",
          "name": "stdout",
          "text": [
            "5.0\n",
            "Strategis, masjid bagus dan indah, kebersihan dalam masjid juga oke, mukena juga wangi, bersih, all oke untuk beribadah..\n",
            "5.0\n",
            "Suasananya sangat tenang & adem, sholat bisa sekalian ngadem istirahat8 Mei 2020 masjid sementara tanpa karpet di tengah pandemi virus covid19 dunia\n",
            "5.0\n",
            "Masjid yang dekat dengan RS Elisabeth dengan parkir luas dan tempat wudhu yang banyak, kamar mandi dan kawasan masjid bersih, mukena dan sajadah yang dipinjamkan bersih dan wangi. Akses ke masjid mudah karena terletak di pinggir jalan raya, nyaman untuk beribadah.\n",
            "5.0\n",
            "Bagi saudaraku yg sedang berkunjung di rumah sakit elisabeth semarang, jika hendak sholat disini, dekat dg rumah sakit, tempat parkir cukup nyaman dan aman....\n",
            "5.0\n",
            "Masjid bersih, nyaman dan ramah pengunjung. Lokasi tepat dipinggir jalan raya, cukup strategis karena dekat rumah sakit. Tapi suasananya tenang.\n",
            "5.0\n",
            "Masjidnya bersih, nyaman , dengan tempat wudhu terpisah, dan batasan shalat utk akhwat terjaga (tirai pembatas tinggi ) dr pandangan ikhwan.\n",
            "5.0\n",
            "#semangat buat bapak security yg senantiasa penuh ikhlas menjaga mtr dan barang bawaan jamaah\n",
            "5.0\n",
            "Masjid kereeenn, selalu bersih dan rapi. Menjadi pilihan tempat beribadah untuk masyarakat sekitar maupun mereka yang sedang dalam perjalanan.Di kompleks masjid juga didirikan Taman Pendidikan Qur'an Al-Furqon dan TK Islam Permata II, dibawah pengelolaan Yayasan Walisongo Semarang.\n",
            "5.0\n",
            "Lokasi strategis, dekat RS Elisabeth\n",
            "5.0\n",
            "Bersih, rapi dan nyaman\n"
          ]
        }
      ]
    },
    {
      "cell_type": "code",
      "source": [
        "#data 8\n",
        "from serpapi import GoogleSearch\n",
        "\n",
        "params = {\n",
        "  \"engine\": \"google_maps_reviews\",\n",
        "  \"data_id\": \"0x2e708e855e7ef8ed:0x7493d9e97cf70c4e\",\n",
        "  \"hl\": \"id\",\n",
        "  \"api_key\": \"004fa1f7c6bc13a724ed6c840b59ec7492978004fd579689c87d1bd814b513f3\"\n",
        "}\n",
        "\n",
        "search = GoogleSearch(params)\n",
        "results = search.get_dict()\n",
        "reviews = results[\"reviews\"][1][\"snippet\"]"
      ],
      "metadata": {
        "colab": {
          "base_uri": "https://localhost:8080/",
          "height": 0
        },
        "id": "Z2cXm6xU8Gpb",
        "outputId": "e8a762d4-1b50-4705-a5d1-3ecc198cf29f"
      },
      "execution_count": 44,
      "outputs": [
        {
          "output_type": "stream",
          "name": "stdout",
          "text": [
            "https://serpapi.com/search\n"
          ]
        }
      ]
    },
    {
      "cell_type": "code",
      "source": [
        "for i in range(10):\n",
        "  rating = results [\"reviews\"][i][\"rating\"]\n",
        "  print(rating)\n",
        "  reviews = results [\"reviews\"][i][\"snippet\"]\n",
        "  print(reviews)"
      ],
      "metadata": {
        "colab": {
          "base_uri": "https://localhost:8080/",
          "height": 0
        },
        "id": "BgqChRbV8QI2",
        "outputId": "da98c43c-00bb-408b-a523-a9ae6e3eabd8"
      },
      "execution_count": 45,
      "outputs": [
        {
          "output_type": "stream",
          "name": "stdout",
          "text": [
            "5.0\n",
            "Subhanallah... Masjid yang indah dan nyaman untuk beribadah. Letaknya tersembuyi di dalam kompleks perumahan. Akan tetapi sudah ada petunjuk arah yang menuju ke masjid ini dari mulai masuk ke kompleks perumahan. Saya sendiri bisa sampai ke masjid ini karena mengikuti alur dari petunjuk arah tersebut. Sungguh sangat membantu pengguna jalan atau musafir yang kebetulan lewat di jalur tersebut. Semoga berkah.\n",
            "5.0\n",
            "Masjid di kawasan Perumahan Dinarmas, Meteseh, Tembalang, Kota Semarang. Mampir sini saat Jumatan. Masjid bersih, terawat, ruang wudhu bersih, ruang shalat bersih dan nyaman. Masjid juga lumayan luas.\n",
            "4.0\n",
            "Kamar Mandinya sebaiknya diperhatikan kebersihan dan sarananya.\n",
            "5.0\n",
            "Masjid Baitussalam, mudah2an tambah barokah semua kegiatannya, barokah kehidupan semua jamaahnya serta keluarganya baik ilmu juga rejekinya....amiin Untuk menambah keberkahan ilmu kita semua, berikut jadwal ngaji setiap harinya JADWAL KAJIAN SETELAH SUBUH AHAD || KH. DRS. SOEDJARWO, MSI || KITAB NASHOIHUL IBAD (TAZKIYATUN NUFUS) SENIN || UST. Dr. WAHYUDI || KAJIAN ISLAM TEMATIK SELASA || UST ABDUL HAKIM RAHMATULLAH, LC || KAJIAN KITAB MUKHTASHOH MINHAJUL QOSIDIN (IBNUL QOYYIM) RABU || UST NURSIDIN || KAJIAN HADITS ARBAIN NAWAWI KAMIS || UST MUTTAHIDIN, LC || TAFSIR AL QURAN JUS 30 JUMAT || UST. AMIN TAUFIQ, LC || KAJIAN KITAB SIROH NABAWIYAH (IBNU HISYAM) SABTU || UST. ABDUL MUHSIN, MPdi || TAHSIN QURAN\n",
            "5.0\n",
            "Adem masjidnya ada AC nya.. Hehehe..\n",
            "4.0\n",
            "Bangunnannya cukup luas untuk menampung jamaah didukung Akses jalan yg cukup besar kiri, kanan, belakang depan, belakang masjid bisa di manfaatkan untuk sarana parkir jamaah. Bahkan jamaah bisa memanfaatkan fasilitas Wi-fi gratis bila membutuhkan.\n",
            "5.0\n",
            "Alhamdulillah, kita mempunyai masjid yng bagus, utk sarana tempat ibadah kita kpd Allah Subhahanna Wata'ala...\n",
            "5.0\n",
            "Mesjidnya nyaman, Halamannya cukup luas, kamar mandinya jga bersih.\n",
            "5.0\n",
            "Alhamdulillah kegiatannya juga banyak , termasuk kajian ba'da subuh dll\n",
            "3.0\n",
            "Tarawih dan kultum syech palestine\n"
          ]
        }
      ]
    },
    {
      "cell_type": "code",
      "source": [
        "#data 9\n",
        "from serpapi import GoogleSearch\n",
        "\n",
        "params = {\n",
        "  \"engine\": \"google_maps_reviews\",\n",
        "  \"data_id\": \"0x2e70894bd002f47b:0x6aa22aac0cdc176a\",\n",
        "  \"hl\": \"id\",\n",
        "  \"api_key\": \"004fa1f7c6bc13a724ed6c840b59ec7492978004fd579689c87d1bd814b513f3\"\n",
        "}\n",
        "\n",
        "search = GoogleSearch(params)\n",
        "results = search.get_dict()\n",
        "reviews = results[\"reviews\"][1][\"snippet\"]"
      ],
      "metadata": {
        "colab": {
          "base_uri": "https://localhost:8080/",
          "height": 0
        },
        "id": "iZzwupQ_8Tfy",
        "outputId": "0978da37-df29-4449-e760-27cd23e3c5f2"
      },
      "execution_count": 46,
      "outputs": [
        {
          "output_type": "stream",
          "name": "stdout",
          "text": [
            "https://serpapi.com/search\n"
          ]
        }
      ]
    },
    {
      "cell_type": "code",
      "source": [
        "for i in range(10):\n",
        "  rating = results [\"reviews\"][i][\"rating\"]\n",
        "  print(rating)\n",
        "  reviews = results [\"reviews\"][i][\"snippet\"]\n",
        "  print(reviews)"
      ],
      "metadata": {
        "colab": {
          "base_uri": "https://localhost:8080/",
          "height": 0
        },
        "id": "d7Wk4vcX8bVS",
        "outputId": "78f15afe-0d76-4108-f584-d6fa46ece140"
      },
      "execution_count": 47,
      "outputs": [
        {
          "output_type": "stream",
          "name": "stdout",
          "text": [
            "5.0\n",
            "Masjid yg bagus.Ada lantai dua, besar, toilet, dan bisa untk naik kursi roda.\n",
            "5.0\n",
            "Alhamdulillah tempatnya nyaman buat istirahat disela2 habis sholat, masjid yg welcome pd jamaah/musafir..jamaahnya ramah apalagi marboutnya smart...semoga ke depan bisa meningkatkan pelayanan umat dlm hal keilmuan agama dan sosial..aamiin\n",
            "5.0\n",
            "Cukup nyaman masjidnya, bacaan imamnya juga enak sayang suara anak2 agak berisik\n",
            "5.0\n",
            "Halaman parkir sepeda motor ada atapnya, jadi adem tidak panas.\n",
            "5.0\n",
            "Tiap minggu pagi sesudah sholat shubuh berjamaah ada tilawah 1 juz.\n",
            "5.0\n",
            "Masjid besar di tengah permukiman penduduk, untuk mobil ada kantong parkir dibawahnya 10 Juni 2020 Masjid sementara tanpa karpet ditengah pandemi covid19 dunia\n",
            "5.0\n",
            "Masjidnya bersih dan besar, agak dekat dengan jalan raya, meskipun tidak dipinggir jalan persis, namun masih bisa dijangkau, agak susah untuk mobil masuk karena jalanan sempit, tapi tidak masalah jika menggunakan motor, masjid ini bertingkat dua, jadi dapat menampung banyak jamaah yang ingin melaksanakan ibadah\n",
            "5.0\n",
            "Bisa sholat dan berdoa setelah adzan dengan tenang dan khusyuk, gak seperti di seberang, habis adzan malah mengeraskan bacaan pujian, hadeww padahal kan waktu antara adzan dan iqomah itu waktu yang mustajab. Gitu kan gaes.😀\n",
            "5.0\n",
            "Masjid nyaman Sepulang kerja untuk sholat berjamaah.\n",
            "5.0\n",
            "Nyaman buat beribadah sholat jamaah, imam nya enak suaranya dan Insyaallah hafid quran\n"
          ]
        }
      ]
    },
    {
      "cell_type": "code",
      "source": [
        "#data 10\n",
        "from serpapi import GoogleSearch\n",
        "\n",
        "params = {\n",
        "  \"engine\": \"google_maps_reviews\",\n",
        "  \"data_id\": \"0x2e708eaa18b52413:0x678332cba38c2433\",\n",
        "  \"hl\": \"id\",\n",
        "  \"api_key\": \"004fa1f7c6bc13a724ed6c840b59ec7492978004fd579689c87d1bd814b513f3\"\n",
        "}\n",
        "\n",
        "search = GoogleSearch(params)\n",
        "results = search.get_dict()\n",
        "reviews = results[\"reviews\"][1][\"snippet\"]"
      ],
      "metadata": {
        "colab": {
          "base_uri": "https://localhost:8080/",
          "height": 0
        },
        "id": "CTgVp16E8eOi",
        "outputId": "ae431453-6b1b-4c65-b682-1ee56c857c83"
      },
      "execution_count": 48,
      "outputs": [
        {
          "output_type": "stream",
          "name": "stdout",
          "text": [
            "https://serpapi.com/search\n"
          ]
        }
      ]
    },
    {
      "cell_type": "code",
      "source": [
        "for i in range(10):\n",
        "  rating = results [\"reviews\"][i][\"rating\"]\n",
        "  print(rating)\n",
        "  reviews = results [\"reviews\"][i][\"snippet\"]\n",
        "  print(reviews)"
      ],
      "metadata": {
        "colab": {
          "base_uri": "https://localhost:8080/",
          "height": 0
        },
        "id": "TPkO4LDSJfv5",
        "outputId": "4bf980d4-86ff-4c50-c19c-ebbf9e91b1e9"
      },
      "execution_count": 108,
      "outputs": [
        {
          "output_type": "stream",
          "name": "stdout",
          "text": [
            "5.0\n",
            "Bangunan masjid yang minimalis yang terdiri dari dua lantai.Lantai bawah terdapat tempat wudhu, WC dan tempat sholat utama. Ruang ber-AC dan kipas angin, sehingga nyaman untuk beribadah di tempat tersebut. Bangunan bersih dan terawat dengan baik. Parkiran cukup di depan masjid tersebut.\n",
            "5.0\n",
            "Fasilitas masjid cukup lengkap, ditambah adanya minum membantu para anak kuliahan agar bisa segar kembali dalam beraktivitas Didalamnya terdapat AC, sehingga kita harus menutup rapat pintu setelah masuk masjid Pintu masjid dibuka dengan digeser, bukan ditarik atau didorong Maaf kalau foto hanya luar saja karena tidak sempat foto bagian dalam\n",
            "5.0\n",
            "Masjid yg nyaman...\n",
            "5.0\n",
            "Mohon doa restu\" pembanguna masjid al amin, semoga menambah iman islam kita' untuk selalu ingat akhirat\n",
            "4.0\n",
            "Masjid yg bagus, letaknya ada di dalam perumahan Graha Sapta. Mungkin tak banyak orang yg tahu, namun masjid ini cukup nyaman dan bikin betah\n",
            "5.0\n",
            "Nyaman untuk beribadah\n",
            "5.0\n",
            "Sekarang bangunan sudah jadi, berlantai 2, kamar mandi bersih, mukenah wangi, ber AC\n",
            "4.0\n",
            "Masjid bersih sekali dan menerapkan prokes Covid..\n",
            "1.0\n",
            "Tempatnya nyaman cuma penghuni nya kurang banyak .. mudah2an besok2 bertambah banyak pengunjungnya\n",
            "5.0\n",
            "Masjid sunnah, good\n"
          ]
        }
      ]
    },
    {
      "cell_type": "code",
      "source": [
        "# CASE FOLDING\n",
        "# 1. Mengubah text menjadi lowercase \n",
        "kalimat = \"4.0 Masjid yg bagus, letaknya ada di dalam perumahan Graha Sapta. Mungkin tak banyak orang yg tahu, namun masjid ini cukup nyaman dan bikin betah\"\n",
        "lower_case = kalimat.lower()\n",
        "print(lower_case)"
      ],
      "metadata": {
        "colab": {
          "base_uri": "https://localhost:8080/",
          "height": 0
        },
        "id": "IATVCGtPM9di",
        "outputId": "9541454c-ba45-485c-cdef-720723aad5ee"
      },
      "execution_count": 110,
      "outputs": [
        {
          "output_type": "stream",
          "name": "stdout",
          "text": [
            "4.0 masjid yg bagus, letaknya ada di dalam perumahan graha sapta. mungkin tak banyak orang yg tahu, namun masjid ini cukup nyaman dan bikin betah\n"
          ]
        }
      ]
    },
    {
      "cell_type": "code",
      "source": [
        "# 2. Menghapus angka\n",
        "import re #impor modul regular expressio\n",
        "kalimat = \"1.0 Tempatnya nyaman cuma penghuni nya kurang banyak .. mudah2an besok2 bertambah banyak pengunjungnya\"\n",
        "hasil = re.sub(r\"\\d+\",\"\", kalimat)\n",
        "print (hasil)"
      ],
      "metadata": {
        "colab": {
          "base_uri": "https://localhost:8080/",
          "height": 0
        },
        "id": "nas8yN-7NXV4",
        "outputId": "c6cde1f2-0758-422c-801d-17d84de24261"
      },
      "execution_count": 111,
      "outputs": [
        {
          "output_type": "stream",
          "name": "stdout",
          "text": [
            ". Tempatnya nyaman cuma penghuni nya kurang banyak .. mudahan besok bertambah banyak pengunjungnya\n"
          ]
        }
      ]
    },
    {
      "cell_type": "code",
      "source": [
        "# 3. Menghapus tanda baca\n",
        "import string\n",
        "kalimat = \"5.0 Masjid yg nyaman...\"\n",
        "hasil = kalimat.translate(str.maketrans(\"\",\"\",string.punctuation))\n",
        "print (hasil)"
      ],
      "metadata": {
        "colab": {
          "base_uri": "https://localhost:8080/",
          "height": 0
        },
        "id": "ERXOrVypNj5T",
        "outputId": "38960911-820e-4a03-f28d-5d2f94b77a1f"
      },
      "execution_count": 112,
      "outputs": [
        {
          "output_type": "stream",
          "name": "stdout",
          "text": [
            "50 Masjid yg nyaman\n"
          ]
        }
      ]
    },
    {
      "cell_type": "code",
      "source": [
        "# TOKENIZING \n",
        "\n",
        "import nltk\n",
        "nltk.download('book')\n",
        "#or\n",
        "nltk.download('tests')\n",
        "#or\n",
        "nltk.download('all-corpora')# not recommended as it download huge amount of data."
      ],
      "metadata": {
        "colab": {
          "base_uri": "https://localhost:8080/",
          "height": 0
        },
        "id": "aJzEWJzhNtLH",
        "outputId": "893cd985-2178-4c31-91d1-9540032f72e7"
      },
      "execution_count": 113,
      "outputs": [
        {
          "output_type": "stream",
          "name": "stderr",
          "text": [
            "[nltk_data] Downloading collection 'book'\n",
            "[nltk_data]    | \n",
            "[nltk_data]    | Downloading package abc to /root/nltk_data...\n",
            "[nltk_data]    |   Unzipping corpora/abc.zip.\n",
            "[nltk_data]    | Downloading package brown to /root/nltk_data...\n",
            "[nltk_data]    |   Unzipping corpora/brown.zip.\n",
            "[nltk_data]    | Downloading package chat80 to /root/nltk_data...\n",
            "[nltk_data]    |   Unzipping corpora/chat80.zip.\n",
            "[nltk_data]    | Downloading package cmudict to /root/nltk_data...\n",
            "[nltk_data]    |   Unzipping corpora/cmudict.zip.\n",
            "[nltk_data]    | Downloading package conll2000 to /root/nltk_data...\n",
            "[nltk_data]    |   Unzipping corpora/conll2000.zip.\n",
            "[nltk_data]    | Downloading package conll2002 to /root/nltk_data...\n",
            "[nltk_data]    |   Unzipping corpora/conll2002.zip.\n",
            "[nltk_data]    | Downloading package dependency_treebank to\n",
            "[nltk_data]    |     /root/nltk_data...\n",
            "[nltk_data]    |   Unzipping corpora/dependency_treebank.zip.\n",
            "[nltk_data]    | Downloading package genesis to /root/nltk_data...\n",
            "[nltk_data]    |   Unzipping corpora/genesis.zip.\n",
            "[nltk_data]    | Downloading package gutenberg to /root/nltk_data...\n",
            "[nltk_data]    |   Unzipping corpora/gutenberg.zip.\n",
            "[nltk_data]    | Downloading package ieer to /root/nltk_data...\n",
            "[nltk_data]    |   Unzipping corpora/ieer.zip.\n",
            "[nltk_data]    | Downloading package inaugural to /root/nltk_data...\n",
            "[nltk_data]    |   Unzipping corpora/inaugural.zip.\n",
            "[nltk_data]    | Downloading package movie_reviews to\n",
            "[nltk_data]    |     /root/nltk_data...\n",
            "[nltk_data]    |   Unzipping corpora/movie_reviews.zip.\n",
            "[nltk_data]    | Downloading package nps_chat to /root/nltk_data...\n",
            "[nltk_data]    |   Unzipping corpora/nps_chat.zip.\n",
            "[nltk_data]    | Downloading package names to /root/nltk_data...\n",
            "[nltk_data]    |   Unzipping corpora/names.zip.\n",
            "[nltk_data]    | Downloading package ppattach to /root/nltk_data...\n",
            "[nltk_data]    |   Unzipping corpora/ppattach.zip.\n",
            "[nltk_data]    | Downloading package reuters to /root/nltk_data...\n",
            "[nltk_data]    | Downloading package senseval to /root/nltk_data...\n",
            "[nltk_data]    |   Unzipping corpora/senseval.zip.\n",
            "[nltk_data]    | Downloading package state_union to /root/nltk_data...\n",
            "[nltk_data]    |   Unzipping corpora/state_union.zip.\n",
            "[nltk_data]    | Downloading package stopwords to /root/nltk_data...\n",
            "[nltk_data]    |   Unzipping corpora/stopwords.zip.\n",
            "[nltk_data]    | Downloading package swadesh to /root/nltk_data...\n",
            "[nltk_data]    |   Unzipping corpora/swadesh.zip.\n",
            "[nltk_data]    | Downloading package timit to /root/nltk_data...\n",
            "[nltk_data]    |   Unzipping corpora/timit.zip.\n",
            "[nltk_data]    | Downloading package treebank to /root/nltk_data...\n",
            "[nltk_data]    |   Unzipping corpora/treebank.zip.\n",
            "[nltk_data]    | Downloading package toolbox to /root/nltk_data...\n",
            "[nltk_data]    |   Unzipping corpora/toolbox.zip.\n",
            "[nltk_data]    | Downloading package udhr to /root/nltk_data...\n",
            "[nltk_data]    |   Unzipping corpora/udhr.zip.\n",
            "[nltk_data]    | Downloading package udhr2 to /root/nltk_data...\n",
            "[nltk_data]    |   Unzipping corpora/udhr2.zip.\n",
            "[nltk_data]    | Downloading package unicode_samples to\n",
            "[nltk_data]    |     /root/nltk_data...\n",
            "[nltk_data]    |   Unzipping corpora/unicode_samples.zip.\n",
            "[nltk_data]    | Downloading package webtext to /root/nltk_data...\n",
            "[nltk_data]    |   Unzipping corpora/webtext.zip.\n",
            "[nltk_data]    | Downloading package wordnet to /root/nltk_data...\n",
            "[nltk_data]    | Downloading package wordnet_ic to /root/nltk_data...\n",
            "[nltk_data]    |   Unzipping corpora/wordnet_ic.zip.\n",
            "[nltk_data]    | Downloading package words to /root/nltk_data...\n",
            "[nltk_data]    |   Unzipping corpora/words.zip.\n",
            "[nltk_data]    | Downloading package maxent_treebank_pos_tagger to\n",
            "[nltk_data]    |     /root/nltk_data...\n",
            "[nltk_data]    |   Unzipping taggers/maxent_treebank_pos_tagger.zip.\n",
            "[nltk_data]    | Downloading package maxent_ne_chunker to\n",
            "[nltk_data]    |     /root/nltk_data...\n",
            "[nltk_data]    |   Unzipping chunkers/maxent_ne_chunker.zip.\n",
            "[nltk_data]    | Downloading package universal_tagset to\n",
            "[nltk_data]    |     /root/nltk_data...\n",
            "[nltk_data]    |   Unzipping taggers/universal_tagset.zip.\n",
            "[nltk_data]    | Downloading package punkt to /root/nltk_data...\n",
            "[nltk_data]    |   Unzipping tokenizers/punkt.zip.\n",
            "[nltk_data]    | Downloading package book_grammars to\n",
            "[nltk_data]    |     /root/nltk_data...\n",
            "[nltk_data]    |   Unzipping grammars/book_grammars.zip.\n",
            "[nltk_data]    | Downloading package city_database to\n",
            "[nltk_data]    |     /root/nltk_data...\n",
            "[nltk_data]    |   Unzipping corpora/city_database.zip.\n",
            "[nltk_data]    | Downloading package tagsets to /root/nltk_data...\n",
            "[nltk_data]    |   Unzipping help/tagsets.zip.\n",
            "[nltk_data]    | Downloading package panlex_swadesh to\n",
            "[nltk_data]    |     /root/nltk_data...\n",
            "[nltk_data]    | Downloading package averaged_perceptron_tagger to\n",
            "[nltk_data]    |     /root/nltk_data...\n",
            "[nltk_data]    |   Unzipping taggers/averaged_perceptron_tagger.zip.\n",
            "[nltk_data]    | \n",
            "[nltk_data]  Done downloading collection book\n",
            "[nltk_data] Downloading collection 'tests'\n",
            "[nltk_data]    | \n",
            "[nltk_data]    | Downloading package averaged_perceptron_tagger to\n",
            "[nltk_data]    |     /root/nltk_data...\n",
            "[nltk_data]    |   Package averaged_perceptron_tagger is already up-\n",
            "[nltk_data]    |       to-date!\n",
            "[nltk_data]    | Downloading package porter_test to /root/nltk_data...\n",
            "[nltk_data]    |   Unzipping stemmers/porter_test.zip.\n",
            "[nltk_data]    | Downloading package twitter_samples to\n",
            "[nltk_data]    |     /root/nltk_data...\n",
            "[nltk_data]    |   Unzipping corpora/twitter_samples.zip.\n",
            "[nltk_data]    | Downloading package wmt15_eval to /root/nltk_data...\n",
            "[nltk_data]    |   Unzipping models/wmt15_eval.zip.\n",
            "[nltk_data]    | Downloading package subjectivity to\n",
            "[nltk_data]    |     /root/nltk_data...\n",
            "[nltk_data]    |   Unzipping corpora/subjectivity.zip.\n",
            "[nltk_data]    | Downloading package framenet_v17 to\n",
            "[nltk_data]    |     /root/nltk_data...\n",
            "[nltk_data]    |   Unzipping corpora/framenet_v17.zip.\n",
            "[nltk_data]    | Downloading package product_reviews_1 to\n",
            "[nltk_data]    |     /root/nltk_data...\n",
            "[nltk_data]    |   Unzipping corpora/product_reviews_1.zip.\n",
            "[nltk_data]    | Downloading package product_reviews_2 to\n",
            "[nltk_data]    |     /root/nltk_data...\n",
            "[nltk_data]    |   Unzipping corpora/product_reviews_2.zip.\n",
            "[nltk_data]    | Downloading package vader_lexicon to\n",
            "[nltk_data]    |     /root/nltk_data...\n",
            "[nltk_data]    | Downloading package crubadan to /root/nltk_data...\n",
            "[nltk_data]    |   Unzipping corpora/crubadan.zip.\n",
            "[nltk_data]    | Downloading package mte_teip5 to /root/nltk_data...\n",
            "[nltk_data]    |   Unzipping corpora/mte_teip5.zip.\n",
            "[nltk_data]    | Downloading package sentence_polarity to\n",
            "[nltk_data]    |     /root/nltk_data...\n",
            "[nltk_data]    |   Unzipping corpora/sentence_polarity.zip.\n",
            "[nltk_data]    | Downloading package universal_treebanks_v20 to\n",
            "[nltk_data]    |     /root/nltk_data...\n",
            "[nltk_data]    | Downloading package panlex_swadesh to\n",
            "[nltk_data]    |     /root/nltk_data...\n",
            "[nltk_data]    |   Package panlex_swadesh is already up-to-date!\n",
            "[nltk_data]    | Downloading package nonbreaking_prefixes to\n",
            "[nltk_data]    |     /root/nltk_data...\n",
            "[nltk_data]    |   Unzipping corpora/nonbreaking_prefixes.zip.\n",
            "[nltk_data]    | Downloading package perluniprops to\n",
            "[nltk_data]    |     /root/nltk_data...\n",
            "[nltk_data]    |   Unzipping misc/perluniprops.zip.\n",
            "[nltk_data]    | Downloading package pros_cons to /root/nltk_data...\n",
            "[nltk_data]    |   Unzipping corpora/pros_cons.zip.\n",
            "[nltk_data]    | Downloading package opinion_lexicon to\n",
            "[nltk_data]    |     /root/nltk_data...\n",
            "[nltk_data]    |   Unzipping corpora/opinion_lexicon.zip.\n",
            "[nltk_data]    | Downloading package comparative_sentences to\n",
            "[nltk_data]    |     /root/nltk_data...\n",
            "[nltk_data]    |   Unzipping corpora/comparative_sentences.zip.\n",
            "[nltk_data]    | \n",
            "[nltk_data]  Done downloading collection tests\n",
            "[nltk_data] Downloading collection 'all-corpora'\n",
            "[nltk_data]    | \n",
            "[nltk_data]    | Downloading package abc to /root/nltk_data...\n",
            "[nltk_data]    |   Package abc is already up-to-date!\n",
            "[nltk_data]    | Downloading package alpino to /root/nltk_data...\n",
            "[nltk_data]    |   Unzipping corpora/alpino.zip.\n",
            "[nltk_data]    | Downloading package biocreative_ppi to\n",
            "[nltk_data]    |     /root/nltk_data...\n",
            "[nltk_data]    |   Unzipping corpora/biocreative_ppi.zip.\n",
            "[nltk_data]    | Downloading package brown to /root/nltk_data...\n",
            "[nltk_data]    |   Package brown is already up-to-date!\n",
            "[nltk_data]    | Downloading package brown_tei to /root/nltk_data...\n",
            "[nltk_data]    |   Unzipping corpora/brown_tei.zip.\n",
            "[nltk_data]    | Downloading package cess_cat to /root/nltk_data...\n",
            "[nltk_data]    |   Unzipping corpora/cess_cat.zip.\n",
            "[nltk_data]    | Downloading package cess_esp to /root/nltk_data...\n",
            "[nltk_data]    |   Unzipping corpora/cess_esp.zip.\n",
            "[nltk_data]    | Downloading package chat80 to /root/nltk_data...\n",
            "[nltk_data]    |   Package chat80 is already up-to-date!\n",
            "[nltk_data]    | Downloading package city_database to\n",
            "[nltk_data]    |     /root/nltk_data...\n",
            "[nltk_data]    |   Package city_database is already up-to-date!\n",
            "[nltk_data]    | Downloading package cmudict to /root/nltk_data...\n",
            "[nltk_data]    |   Package cmudict is already up-to-date!\n",
            "[nltk_data]    | Downloading package comparative_sentences to\n",
            "[nltk_data]    |     /root/nltk_data...\n",
            "[nltk_data]    |   Package comparative_sentences is already up-to-\n",
            "[nltk_data]    |       date!\n",
            "[nltk_data]    | Downloading package comtrans to /root/nltk_data...\n",
            "[nltk_data]    | Downloading package conll2000 to /root/nltk_data...\n",
            "[nltk_data]    |   Package conll2000 is already up-to-date!\n",
            "[nltk_data]    | Downloading package conll2002 to /root/nltk_data...\n",
            "[nltk_data]    |   Package conll2002 is already up-to-date!\n",
            "[nltk_data]    | Downloading package conll2007 to /root/nltk_data...\n",
            "[nltk_data]    | Downloading package crubadan to /root/nltk_data...\n",
            "[nltk_data]    |   Package crubadan is already up-to-date!\n",
            "[nltk_data]    | Downloading package dependency_treebank to\n",
            "[nltk_data]    |     /root/nltk_data...\n",
            "[nltk_data]    |   Package dependency_treebank is already up-to-date!\n",
            "[nltk_data]    | Downloading package dolch to /root/nltk_data...\n",
            "[nltk_data]    |   Unzipping corpora/dolch.zip.\n",
            "[nltk_data]    | Downloading package europarl_raw to\n",
            "[nltk_data]    |     /root/nltk_data...\n",
            "[nltk_data]    |   Unzipping corpora/europarl_raw.zip.\n",
            "[nltk_data]    | Downloading package extended_omw to\n",
            "[nltk_data]    |     /root/nltk_data...\n",
            "[nltk_data]    | Downloading package floresta to /root/nltk_data...\n",
            "[nltk_data]    |   Unzipping corpora/floresta.zip.\n",
            "[nltk_data]    | Downloading package framenet_v15 to\n",
            "[nltk_data]    |     /root/nltk_data...\n",
            "[nltk_data]    |   Unzipping corpora/framenet_v15.zip.\n",
            "[nltk_data]    | Downloading package framenet_v17 to\n",
            "[nltk_data]    |     /root/nltk_data...\n",
            "[nltk_data]    |   Package framenet_v17 is already up-to-date!\n",
            "[nltk_data]    | Downloading package gazetteers to /root/nltk_data...\n",
            "[nltk_data]    |   Unzipping corpora/gazetteers.zip.\n",
            "[nltk_data]    | Downloading package genesis to /root/nltk_data...\n",
            "[nltk_data]    |   Package genesis is already up-to-date!\n",
            "[nltk_data]    | Downloading package gutenberg to /root/nltk_data...\n",
            "[nltk_data]    |   Package gutenberg is already up-to-date!\n",
            "[nltk_data]    | Downloading package ieer to /root/nltk_data...\n",
            "[nltk_data]    |   Package ieer is already up-to-date!\n",
            "[nltk_data]    | Downloading package inaugural to /root/nltk_data...\n",
            "[nltk_data]    |   Package inaugural is already up-to-date!\n",
            "[nltk_data]    | Downloading package indian to /root/nltk_data...\n",
            "[nltk_data]    |   Unzipping corpora/indian.zip.\n",
            "[nltk_data]    | Downloading package jeita to /root/nltk_data...\n",
            "[nltk_data]    | Downloading package kimmo to /root/nltk_data...\n",
            "[nltk_data]    |   Unzipping corpora/kimmo.zip.\n",
            "[nltk_data]    | Downloading package knbc to /root/nltk_data...\n",
            "[nltk_data]    | Downloading package lin_thesaurus to\n",
            "[nltk_data]    |     /root/nltk_data...\n",
            "[nltk_data]    |   Unzipping corpora/lin_thesaurus.zip.\n",
            "[nltk_data]    | Downloading package mac_morpho to /root/nltk_data...\n",
            "[nltk_data]    |   Unzipping corpora/mac_morpho.zip.\n",
            "[nltk_data]    | Downloading package machado to /root/nltk_data...\n",
            "[nltk_data]    | Downloading package masc_tagged to /root/nltk_data...\n",
            "[nltk_data]    | Downloading package movie_reviews to\n",
            "[nltk_data]    |     /root/nltk_data...\n",
            "[nltk_data]    |   Package movie_reviews is already up-to-date!\n",
            "[nltk_data]    | Downloading package mte_teip5 to /root/nltk_data...\n",
            "[nltk_data]    |   Package mte_teip5 is already up-to-date!\n",
            "[nltk_data]    | Downloading package names to /root/nltk_data...\n",
            "[nltk_data]    |   Package names is already up-to-date!\n",
            "[nltk_data]    | Downloading package nombank.1.0 to /root/nltk_data...\n",
            "[nltk_data]    | Downloading package nonbreaking_prefixes to\n",
            "[nltk_data]    |     /root/nltk_data...\n",
            "[nltk_data]    |   Package nonbreaking_prefixes is already up-to-date!\n",
            "[nltk_data]    | Downloading package nps_chat to /root/nltk_data...\n",
            "[nltk_data]    |   Package nps_chat is already up-to-date!\n",
            "[nltk_data]    | Downloading package omw to /root/nltk_data...\n",
            "[nltk_data]    | Downloading package omw-1.4 to /root/nltk_data...\n",
            "[nltk_data]    | Downloading package opinion_lexicon to\n",
            "[nltk_data]    |     /root/nltk_data...\n",
            "[nltk_data]    |   Package opinion_lexicon is already up-to-date!\n",
            "[nltk_data]    | Downloading package panlex_swadesh to\n",
            "[nltk_data]    |     /root/nltk_data...\n",
            "[nltk_data]    |   Package panlex_swadesh is already up-to-date!\n",
            "[nltk_data]    | Downloading package paradigms to /root/nltk_data...\n",
            "[nltk_data]    |   Unzipping corpora/paradigms.zip.\n",
            "[nltk_data]    | Downloading package pe08 to /root/nltk_data...\n",
            "[nltk_data]    |   Unzipping corpora/pe08.zip.\n",
            "[nltk_data]    | Downloading package pil to /root/nltk_data...\n",
            "[nltk_data]    |   Unzipping corpora/pil.zip.\n",
            "[nltk_data]    | Downloading package pl196x to /root/nltk_data...\n",
            "[nltk_data]    |   Unzipping corpora/pl196x.zip.\n",
            "[nltk_data]    | Downloading package ppattach to /root/nltk_data...\n",
            "[nltk_data]    |   Package ppattach is already up-to-date!\n",
            "[nltk_data]    | Downloading package problem_reports to\n",
            "[nltk_data]    |     /root/nltk_data...\n",
            "[nltk_data]    |   Unzipping corpora/problem_reports.zip.\n",
            "[nltk_data]    | Downloading package product_reviews_1 to\n",
            "[nltk_data]    |     /root/nltk_data...\n",
            "[nltk_data]    |   Package product_reviews_1 is already up-to-date!\n",
            "[nltk_data]    | Downloading package product_reviews_2 to\n",
            "[nltk_data]    |     /root/nltk_data...\n",
            "[nltk_data]    |   Package product_reviews_2 is already up-to-date!\n",
            "[nltk_data]    | Downloading package propbank to /root/nltk_data...\n",
            "[nltk_data]    | Downloading package pros_cons to /root/nltk_data...\n",
            "[nltk_data]    |   Package pros_cons is already up-to-date!\n",
            "[nltk_data]    | Downloading package ptb to /root/nltk_data...\n",
            "[nltk_data]    |   Unzipping corpora/ptb.zip.\n",
            "[nltk_data]    | Downloading package qc to /root/nltk_data...\n",
            "[nltk_data]    |   Unzipping corpora/qc.zip.\n",
            "[nltk_data]    | Downloading package reuters to /root/nltk_data...\n",
            "[nltk_data]    |   Package reuters is already up-to-date!\n",
            "[nltk_data]    | Downloading package rte to /root/nltk_data...\n",
            "[nltk_data]    |   Unzipping corpora/rte.zip.\n",
            "[nltk_data]    | Downloading package semcor to /root/nltk_data...\n",
            "[nltk_data]    | Downloading package senseval to /root/nltk_data...\n",
            "[nltk_data]    |   Package senseval is already up-to-date!\n",
            "[nltk_data]    | Downloading package sentence_polarity to\n",
            "[nltk_data]    |     /root/nltk_data...\n",
            "[nltk_data]    |   Package sentence_polarity is already up-to-date!\n",
            "[nltk_data]    | Downloading package sentiwordnet to\n",
            "[nltk_data]    |     /root/nltk_data...\n",
            "[nltk_data]    |   Unzipping corpora/sentiwordnet.zip.\n",
            "[nltk_data]    | Downloading package shakespeare to /root/nltk_data...\n",
            "[nltk_data]    |   Unzipping corpora/shakespeare.zip.\n",
            "[nltk_data]    | Downloading package sinica_treebank to\n",
            "[nltk_data]    |     /root/nltk_data...\n",
            "[nltk_data]    |   Unzipping corpora/sinica_treebank.zip.\n",
            "[nltk_data]    | Downloading package smultron to /root/nltk_data...\n",
            "[nltk_data]    |   Unzipping corpora/smultron.zip.\n",
            "[nltk_data]    | Downloading package state_union to /root/nltk_data...\n",
            "[nltk_data]    |   Package state_union is already up-to-date!\n",
            "[nltk_data]    | Downloading package stopwords to /root/nltk_data...\n",
            "[nltk_data]    |   Package stopwords is already up-to-date!\n",
            "[nltk_data]    | Downloading package subjectivity to\n",
            "[nltk_data]    |     /root/nltk_data...\n",
            "[nltk_data]    |   Package subjectivity is already up-to-date!\n",
            "[nltk_data]    | Downloading package swadesh to /root/nltk_data...\n",
            "[nltk_data]    |   Package swadesh is already up-to-date!\n",
            "[nltk_data]    | Downloading package switchboard to /root/nltk_data...\n",
            "[nltk_data]    |   Unzipping corpora/switchboard.zip.\n",
            "[nltk_data]    | Downloading package timit to /root/nltk_data...\n",
            "[nltk_data]    |   Package timit is already up-to-date!\n",
            "[nltk_data]    | Downloading package toolbox to /root/nltk_data...\n",
            "[nltk_data]    |   Package toolbox is already up-to-date!\n",
            "[nltk_data]    | Downloading package treebank to /root/nltk_data...\n",
            "[nltk_data]    |   Package treebank is already up-to-date!\n",
            "[nltk_data]    | Downloading package twitter_samples to\n",
            "[nltk_data]    |     /root/nltk_data...\n",
            "[nltk_data]    |   Package twitter_samples is already up-to-date!\n",
            "[nltk_data]    | Downloading package udhr to /root/nltk_data...\n",
            "[nltk_data]    |   Package udhr is already up-to-date!\n",
            "[nltk_data]    | Downloading package udhr2 to /root/nltk_data...\n",
            "[nltk_data]    |   Package udhr2 is already up-to-date!\n",
            "[nltk_data]    | Downloading package unicode_samples to\n",
            "[nltk_data]    |     /root/nltk_data...\n",
            "[nltk_data]    |   Package unicode_samples is already up-to-date!\n",
            "[nltk_data]    | Downloading package universal_treebanks_v20 to\n",
            "[nltk_data]    |     /root/nltk_data...\n",
            "[nltk_data]    |   Package universal_treebanks_v20 is already up-to-\n",
            "[nltk_data]    |       date!\n",
            "[nltk_data]    | Downloading package verbnet to /root/nltk_data...\n",
            "[nltk_data]    |   Unzipping corpora/verbnet.zip.\n",
            "[nltk_data]    | Downloading package verbnet3 to /root/nltk_data...\n",
            "[nltk_data]    |   Unzipping corpora/verbnet3.zip.\n",
            "[nltk_data]    | Downloading package webtext to /root/nltk_data...\n",
            "[nltk_data]    |   Package webtext is already up-to-date!\n",
            "[nltk_data]    | Downloading package wordnet to /root/nltk_data...\n",
            "[nltk_data]    |   Package wordnet is already up-to-date!\n",
            "[nltk_data]    | Downloading package wordnet2021 to /root/nltk_data...\n",
            "[nltk_data]    | Downloading package wordnet31 to /root/nltk_data...\n",
            "[nltk_data]    | Downloading package wordnet_ic to /root/nltk_data...\n",
            "[nltk_data]    |   Package wordnet_ic is already up-to-date!\n",
            "[nltk_data]    | Downloading package words to /root/nltk_data...\n",
            "[nltk_data]    |   Package words is already up-to-date!\n",
            "[nltk_data]    | Downloading package ycoe to /root/nltk_data...\n",
            "[nltk_data]    |   Unzipping corpora/ycoe.zip.\n",
            "[nltk_data]    | \n",
            "[nltk_data]  Done downloading collection all-corpora\n"
          ]
        },
        {
          "output_type": "execute_result",
          "data": {
            "text/plain": [
              "True"
            ]
          },
          "metadata": {},
          "execution_count": 113
        }
      ]
    },
    {
      "cell_type": "code",
      "source": [
        "# impor word_tokenize dari modul nltk\n",
        "from nltk.tokenize import sent_tokenize, word_tokenize\n",
        "kalimat = \"5.0 Mohon doa restu pembanguna masjid al amin, semoga menambah iman islam kita' untuk selalu ingat akhirat\"\n",
        "tokens = word_tokenize(kalimat)\n",
        "print(tokens)"
      ],
      "metadata": {
        "colab": {
          "base_uri": "https://localhost:8080/",
          "height": 0
        },
        "id": "tsCkDyn5N8Ob",
        "outputId": "ec33756f-03e7-4f65-a10b-ca6887e80003"
      },
      "execution_count": 114,
      "outputs": [
        {
          "output_type": "stream",
          "name": "stdout",
          "text": [
            "['5.0', 'Mohon', 'doa', 'restu', 'pembanguna', 'masjid', 'al', 'amin', ',', 'semoga', 'menambah', 'iman', 'islam', 'kita', \"'\", 'untuk', 'selalu', 'ingat', 'akhirat']\n"
          ]
        }
      ]
    },
    {
      "cell_type": "code",
      "source": [
        "# STOPWORD REMOVAL(FILTERING)\n",
        "# Filtering dengan sastrawi\n",
        "!pip install Sastrawi"
      ],
      "metadata": {
        "colab": {
          "base_uri": "https://localhost:8080/",
          "height": 0
        },
        "id": "GW8W_M2eOGcf",
        "outputId": "4f9d6baa-21b9-4729-b7cc-51633ac35b02"
      },
      "execution_count": 121,
      "outputs": [
        {
          "output_type": "stream",
          "name": "stdout",
          "text": [
            "Looking in indexes: https://pypi.org/simple, https://us-python.pkg.dev/colab-wheels/public/simple/\n",
            "Requirement already satisfied: Sastrawi in /usr/local/lib/python3.7/dist-packages (1.0.1)\n"
          ]
        }
      ]
    },
    {
      "cell_type": "code",
      "source": [
        "# Daftar stopword yang tersedia di library Sastrawi\n",
        "from Sastrawi.StopWordRemover.StopWordRemoverFactory import StopWordRemoverFactory\n",
        "factory = StopWordRemoverFactory()\n",
        "stopwords = factory.get_stop_words()\n",
        "print(stopwords)"
      ],
      "metadata": {
        "colab": {
          "base_uri": "https://localhost:8080/",
          "height": 0
        },
        "id": "8-Jx47jWOLQn",
        "outputId": "cdaec96f-2415-493a-a700-e7ace8bb9a42"
      },
      "execution_count": 116,
      "outputs": [
        {
          "output_type": "stream",
          "name": "stdout",
          "text": [
            "['yang', 'untuk', 'pada', 'ke', 'para', 'namun', 'menurut', 'antara', 'dia', 'dua', 'ia', 'seperti', 'jika', 'jika', 'sehingga', 'kembali', 'dan', 'tidak', 'ini', 'karena', 'kepada', 'oleh', 'saat', 'harus', 'sementara', 'setelah', 'belum', 'kami', 'sekitar', 'bagi', 'serta', 'di', 'dari', 'telah', 'sebagai', 'masih', 'hal', 'ketika', 'adalah', 'itu', 'dalam', 'bisa', 'bahwa', 'atau', 'hanya', 'kita', 'dengan', 'akan', 'juga', 'ada', 'mereka', 'sudah', 'saya', 'terhadap', 'secara', 'agar', 'lain', 'anda', 'begitu', 'mengapa', 'kenapa', 'yaitu', 'yakni', 'daripada', 'itulah', 'lagi', 'maka', 'tentang', 'demi', 'dimana', 'kemana', 'pula', 'sambil', 'sebelum', 'sesudah', 'supaya', 'guna', 'kah', 'pun', 'sampai', 'sedangkan', 'selagi', 'sementara', 'tetapi', 'apakah', 'kecuali', 'sebab', 'selain', 'seolah', 'seraya', 'seterusnya', 'tanpa', 'agak', 'boleh', 'dapat', 'dsb', 'dst', 'dll', 'dahulu', 'dulunya', 'anu', 'demikian', 'tapi', 'ingin', 'juga', 'nggak', 'mari', 'nanti', 'melainkan', 'oh', 'ok', 'seharusnya', 'sebetulnya', 'setiap', 'setidaknya', 'sesuatu', 'pasti', 'saja', 'toh', 'ya', 'walau', 'tolong', 'tentu', 'amat', 'apalagi', 'bagaimanapun']\n"
          ]
        }
      ]
    },
    {
      "cell_type": "code",
      "source": [
        "# imort StopWordRemoverFactory class\n",
        "from Sastrawi.StopWordRemover.StopWordRemoverFactory import StopWordRemoverFactory\n",
        "factory = StopWordRemoverFactory()\n",
        "stopword = factory.create_stop_word_remover()\n",
        "# Kalimat\n",
        "kalimat = \"5.0 Masjid yg bagus.Ada lantai dua, besar, toilet, dan bisa untk naik kursi roda.\"\n",
        "stop = stopword.remove(kalimat)\n",
        "print(stop)"
      ],
      "metadata": {
        "colab": {
          "base_uri": "https://localhost:8080/",
          "height": 0
        },
        "id": "S5K68JsfOPTL",
        "outputId": "1e0f90b8-1e8c-4d49-8729-5e494a97cb36"
      },
      "execution_count": 117,
      "outputs": [
        {
          "output_type": "stream",
          "name": "stdout",
          "text": [
            "5.0 Masjid yg bagus.Ada lantai dua, besar, toilet, bisa untk naik kursi roda.\n"
          ]
        }
      ]
    },
    {
      "cell_type": "code",
      "source": [
        "# STEMMING \n",
        "# Stemming dengan sastrawi\n",
        "# import StemmerFactory class\n",
        "from Sastrawi.Stemmer.StemmerFactory import StemmerFactory \n",
        "factory = StemmerFactory()\n",
        "stemmer = factory.create_stemmer()\n",
        "kalimat = 'Masjid yg bagus.Ada lantai dua, besar, toilet, bisa untk naik kursi roda.'\n",
        "hasil = stemmer.stem(kalimat)\n",
        "print(hasil)"
      ],
      "metadata": {
        "colab": {
          "base_uri": "https://localhost:8080/",
          "height": 0
        },
        "id": "nndGTCdVOfG7",
        "outputId": "190725f4-ad82-4169-b960-499307f052f1"
      },
      "execution_count": 120,
      "outputs": [
        {
          "output_type": "stream",
          "name": "stdout",
          "text": [
            "masjid yg bagus ada lantai dua besar toilet bisa untk naik kursi roda\n"
          ]
        }
      ]
    }
  ]
}